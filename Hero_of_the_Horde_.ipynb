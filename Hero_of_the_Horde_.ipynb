{
  "nbformat": 4,
  "nbformat_minor": 0,
  "metadata": {
    "kernelspec": {
      "display_name": "Python 3.7",
      "language": "python",
      "name": "python3"
    },
    "language_info": {
      "codemirror_mode": {
        "name": "ipython",
        "version": 3
      },
      "file_extension": ".py",
      "mimetype": "text/x-python",
      "name": "python",
      "nbconvert_exporter": "python",
      "pygments_lexer": "ipython3",
      "version": "3.7.10"
    },
    "colab": {
      "name": "Hero of the Horde .ipynb",
      "provenance": [],
      "collapsed_sections": [],
      "include_colab_link": true
    }
  },
  "cells": [
    {
      "cell_type": "markdown",
      "metadata": {
        "id": "view-in-github",
        "colab_type": "text"
      },
      "source": [
        "<a href=\"https://colab.research.google.com/github/oneal-tess/Hero-of-the-Horde/blob/master/Hero_of_the_Horde_.ipynb\" target=\"_parent\"><img src=\"https://colab.research.google.com/assets/colab-badge.svg\" alt=\"Open In Colab\"/></a>"
      ]
    },
    {
      "cell_type": "markdown",
      "metadata": {
        "id": "5BfNTSA0lPD9"
      },
      "source": [
        "# **Where Do You Fall in Hero of the Horde**\n",
        "\n",
        "Publisher: Tess O'Neal\n",
        "\n",
        "Date: 3/30/2021\n",
        "\n",
        "Region: US\n",
        "\n",
        "Ladder: RBG\n",
        "\n",
        "Data Source: https://www.arenamate.net/\n",
        "\n",
        "Topics: \n",
        "\n",
        "-Leaderboard Stats and Rating Correlation\n",
        "\n",
        "-Player Rank Comparison (insert gamer tag)\n",
        "\n",
        "-Leaderboard Distribution\n",
        "\n",
        "-Predicting Season End Rating\n",
        "\n",
        "***Dedicated to my fiancé, Fiido***"
      ]
    },
    {
      "cell_type": "markdown",
      "metadata": {
        "id": "vnxukjTVkjp9"
      },
      "source": [
        "Instrections:\n",
        "\n",
        "1. Insert Gamer Tag Below\n",
        "2. Click 'Runtime' from Menu Bar, Select 'Run all'\n",
        "3. Get a Snack While Code Executes (~2 mintues)\n",
        "4. Enjoy Your Custom Data \n"
      ]
    },
    {
      "cell_type": "code",
      "metadata": {
        "id": "WBgfwD7gjDvB"
      },
      "source": [
        "### Insert Player's GamerTag ###\n",
        "\n",
        "# Cap Sensitive #\n",
        "\n",
        "GamerTag= 'Fiido' # <-- Insert your gamer tag inside quotation #\n",
        " "
      ],
      "execution_count": null,
      "outputs": []
    },
    {
      "cell_type": "code",
      "metadata": {
        "cellView": "form",
        "id": "FMxZip1dYCUV",
        "colab": {
          "base_uri": "https://localhost:8080/"
        },
        "outputId": "f55eca66-e430-45db-addb-cb01008fcb3b"
      },
      "source": [
        "#@title Welcome\n",
        "print('Welcome ' + str(GamerTag) +'!')\n",
        "print(' ')\n",
        "print('Please do not make any edits to code, thank you.')"
      ],
      "execution_count": null,
      "outputs": [
        {
          "output_type": "stream",
          "text": [
            "Welcome Fiido!\n",
            " \n",
            "Please do not make any additional edits to code, thank you.\n"
          ],
          "name": "stdout"
        }
      ]
    },
    {
      "cell_type": "code",
      "metadata": {
        "colab": {
          "base_uri": "https://localhost:8080/"
        },
        "id": "wY1uA4eViRSH",
        "cellView": "form",
        "outputId": "f3ae0fca-39cc-4e0a-9d26-17740bb5fd40"
      },
      "source": [
        "#@title Import Libraries\n",
        "### DO NOT EDIT CODE ###\n",
        "from bs4 import BeautifulSoup \n",
        "import requests\n",
        "import pandas as pd\n",
        "import numpy as np\n",
        "import re\n",
        "import matplotlib.pyplot as plt\n",
        "import seaborn as sns\n",
        "import scipy.stats as stats\n",
        "print('Imported')\n",
        "### not even sure if i used all of these, oh well ###"
      ],
      "execution_count": null,
      "outputs": [
        {
          "output_type": "stream",
          "text": [
            "Imported\n"
          ],
          "name": "stdout"
        }
      ]
    },
    {
      "cell_type": "code",
      "metadata": {
        "colab": {
          "base_uri": "https://localhost:8080/"
        },
        "id": "DKLHqfcFiRSN",
        "cellView": "form",
        "outputId": "53d08cf5-128b-41ce-c9a2-256d0c498f67"
      },
      "source": [
        "#@title Last Refresh\n",
        "### Last Refresh ###\n",
        "\n",
        "baseurl='https://www.arenamate.net/?faction=&ladder=RBG'\n",
        "data = requests.get(baseurl).text \n",
        "soup = BeautifulSoup(data,\"html5lib\")\n",
        "#print(soup.prettify())\n",
        "\n",
        "refresh_ladder=soup.find('abbr')\n",
        "print('Ladder Refreshed:')\n",
        "print(refresh_ladder)\n",
        "print(' ')\n",
        "\n",
        "baseurl='https://www.arenamate.net/arena-rbg-title-cutoffs'\n",
        "data = requests.get(baseurl).text \n",
        "soup = BeautifulSoup(data,\"html5lib\")\n",
        "#print(soup.prettify())\n",
        "\n",
        "refresh_cutoff=soup.find_all('abbr')\n",
        "print('Title Cutoff Refreshed:')\n",
        "print(refresh_cutoff[1])"
      ],
      "execution_count": null,
      "outputs": [
        {
          "output_type": "stream",
          "text": [
            "Ladder Refreshed:\n",
            "<abbr data-livestamp=\"2021-03-30T10:08:11.000-07:00\" title=\"Mar 30, 2021 - 10:08 AM (America/LA)\">Mar 30, 2021 - 10:08 AM (America/LA)</abbr>\n",
            " \n",
            "Title Cutoff Refreshed:\n",
            "<abbr data-livestamp=\"2021-03-29T07:39:17.000-07:00\" title=\"Mar 29, 2021 - 07:39 AM (America/LA)\">Mar 29, 2021 - 07:39 AM (America/LA)</abbr>\n"
          ],
          "name": "stdout"
        }
      ]
    },
    {
      "cell_type": "code",
      "metadata": {
        "colab": {
          "base_uri": "https://localhost:8080/"
        },
        "id": "EU1ICS6MiRSO",
        "cellView": "form",
        "outputId": "a6e6f7ae-e4e9-4600-8146-fcff10d03e15"
      },
      "source": [
        "#@title Building Leaderboard Table <br/><i>Long runtime, go get snack.</i>\n",
        "### long runtime - go get a snack ###\n",
        "\n",
        "### Building Leaderboard Table ###\n",
        "\n",
        "baseurl='https://www.arenamate.net/?faction=&ladder=RBG'\n",
        "\n",
        "columns = []\n",
        "all_rows = []\n",
        "    \n",
        "for page in range(1,101):\n",
        "    new_url=str(baseurl) + '&page=' + str(page) + '&rating=0&realm=&region=US'\n",
        "    data = requests.get(new_url).text \n",
        "    soup = BeautifulSoup(data,\"html5lib\")\n",
        "    rating_table = soup.find(\"table\", attrs={\"id\": \"results-table\"})\n",
        "    \n",
        "    body=rating_table.find_all('tr')\n",
        "    head = body[0] \n",
        "    body_rows = body[1:]\n",
        "        \n",
        "    for item in rating_table.find_all(\"th\"): \n",
        "        if page > 1:\n",
        "            break\n",
        "        else:\n",
        "            item = (item.text).rstrip(\"\\n\")\n",
        "            columns.append(item)\n",
        "        \n",
        "    for row_num in range(len(body_rows)):\n",
        "        row=[]\n",
        "        for row_item in body_rows[row_num].find_all(\"td\"):\n",
        "            aa = re.sub(\"(\\xa0)|(\\n)|,\",\"\",row_item.text)\n",
        "            row.append(aa)\n",
        "            all_rows.append(row)\n",
        "            \n",
        "print('Data Loaded')"
      ],
      "execution_count": null,
      "outputs": [
        {
          "output_type": "stream",
          "text": [
            "Data Loaded\n"
          ],
          "name": "stdout"
        }
      ]
    },
    {
      "cell_type": "code",
      "metadata": {
        "colab": {
          "base_uri": "https://localhost:8080/",
          "height": 419
        },
        "id": "M6xQq4b_iRSP",
        "cellView": "form",
        "outputId": "4f0faed0-ffb4-4ed1-afce-97362172f6eb"
      },
      "source": [
        "#@title Raw Constructed Leaderboard <br><i>Ladder: RBG <br/>Region: US</i>\n",
        "df = pd.DataFrame(data=all_rows, columns=columns)\n",
        "df_collected=df.drop_duplicates(keep='first', inplace=False)\n",
        "df_total=df_collected.rename(columns={'Details/Name':'GamerTag','Played/W/L/Win % (SL S1)':'P/W/L/%'})\n",
        "df_total"
      ],
      "execution_count": null,
      "outputs": [
        {
          "output_type": "execute_result",
          "data": {
            "text/html": [
              "<div>\n",
              "<style scoped>\n",
              "    .dataframe tbody tr th:only-of-type {\n",
              "        vertical-align: middle;\n",
              "    }\n",
              "\n",
              "    .dataframe tbody tr th {\n",
              "        vertical-align: top;\n",
              "    }\n",
              "\n",
              "    .dataframe thead th {\n",
              "        text-align: right;\n",
              "    }\n",
              "</style>\n",
              "<table border=\"1\" class=\"dataframe\">\n",
              "  <thead>\n",
              "    <tr style=\"text-align: right;\">\n",
              "      <th></th>\n",
              "      <th>Rank</th>\n",
              "      <th>Rating</th>\n",
              "      <th>Follow</th>\n",
              "      <th>GamerTag</th>\n",
              "      <th>Realm</th>\n",
              "      <th>P/W/L/%</th>\n",
              "    </tr>\n",
              "  </thead>\n",
              "  <tbody>\n",
              "    <tr>\n",
              "      <th>0</th>\n",
              "      <td>1 1</td>\n",
              "      <td>3064</td>\n",
              "      <td></td>\n",
              "      <td>Suspex</td>\n",
              "      <td>Bleeding Hollow</td>\n",
              "      <td>229 198 31    87.0%</td>\n",
              "    </tr>\n",
              "    <tr>\n",
              "      <th>6</th>\n",
              "      <td>2 2</td>\n",
              "      <td>3036</td>\n",
              "      <td></td>\n",
              "      <td>Slipnslide</td>\n",
              "      <td>Mal'Ganis</td>\n",
              "      <td>160 120 40    75.0%</td>\n",
              "    </tr>\n",
              "    <tr>\n",
              "      <th>12</th>\n",
              "      <td>3 2</td>\n",
              "      <td>3036</td>\n",
              "      <td></td>\n",
              "      <td>Spanksv</td>\n",
              "      <td>Tichondrius</td>\n",
              "      <td>157 118 39    75.0%</td>\n",
              "    </tr>\n",
              "    <tr>\n",
              "      <th>18</th>\n",
              "      <td>4 4</td>\n",
              "      <td>3026</td>\n",
              "      <td></td>\n",
              "      <td>Vinnythepope</td>\n",
              "      <td>Bleeding Hollow</td>\n",
              "      <td>164 123 41    75.0%</td>\n",
              "    </tr>\n",
              "    <tr>\n",
              "      <th>24</th>\n",
              "      <td>5 5</td>\n",
              "      <td>3019</td>\n",
              "      <td></td>\n",
              "      <td>Factszxy</td>\n",
              "      <td>Area 52</td>\n",
              "      <td>223 187 36    84.0%</td>\n",
              "    </tr>\n",
              "    <tr>\n",
              "      <th>...</th>\n",
              "      <td>...</td>\n",
              "      <td>...</td>\n",
              "      <td>...</td>\n",
              "      <td>...</td>\n",
              "      <td>...</td>\n",
              "      <td>...</td>\n",
              "    </tr>\n",
              "    <tr>\n",
              "      <th>29922</th>\n",
              "      <td>4988 4997</td>\n",
              "      <td>2227</td>\n",
              "      <td></td>\n",
              "      <td>Vicous</td>\n",
              "      <td>Kil'jaeden</td>\n",
              "      <td>138 87 51    63.0%</td>\n",
              "    </tr>\n",
              "    <tr>\n",
              "      <th>29928</th>\n",
              "      <td>4989 4997</td>\n",
              "      <td>2227</td>\n",
              "      <td></td>\n",
              "      <td>Woollygeezer</td>\n",
              "      <td>Illidan</td>\n",
              "      <td>93 53 40    57.0%</td>\n",
              "    </tr>\n",
              "    <tr>\n",
              "      <th>29934</th>\n",
              "      <td>4990 4997</td>\n",
              "      <td>2227</td>\n",
              "      <td></td>\n",
              "      <td>Yossh</td>\n",
              "      <td>Illidan</td>\n",
              "      <td>101 63 38    62.0%</td>\n",
              "    </tr>\n",
              "    <tr>\n",
              "      <th>29940</th>\n",
              "      <td>4991 4997</td>\n",
              "      <td>2227</td>\n",
              "      <td></td>\n",
              "      <td>Zimzer</td>\n",
              "      <td>Area 52</td>\n",
              "      <td>102 65 37    64.0%</td>\n",
              "    </tr>\n",
              "    <tr>\n",
              "      <th>29946</th>\n",
              "      <td>4992 4997</td>\n",
              "      <td>2227</td>\n",
              "      <td></td>\n",
              "      <td>Ðominant</td>\n",
              "      <td>Alexstrasza</td>\n",
              "      <td>315 182 133    58.0%</td>\n",
              "    </tr>\n",
              "  </tbody>\n",
              "</table>\n",
              "<p>4992 rows × 6 columns</p>\n",
              "</div>"
            ],
            "text/plain": [
              "                 Rank Rating  ...               Realm                    P/W/L/%\n",
              "0              1 1      3064  ...   Bleeding Hollow       229 198 31    87.0%   \n",
              "6              2 2      3036  ...         Mal'Ganis       160 120 40    75.0%   \n",
              "12             3 2      3036  ...       Tichondrius       157 118 39    75.0%   \n",
              "18             4 4      3026  ...   Bleeding Hollow       164 123 41    75.0%   \n",
              "24             5 5      3019  ...           Area 52       223 187 36    84.0%   \n",
              "...               ...    ...  ...                 ...                        ...\n",
              "29922    4988 4997      2227  ...        Kil'jaeden        138 87 51    63.0%   \n",
              "29928    4989 4997      2227  ...           Illidan         93 53 40    57.0%   \n",
              "29934    4990 4997      2227  ...           Illidan        101 63 38    62.0%   \n",
              "29940    4991 4997      2227  ...           Area 52        102 65 37    64.0%   \n",
              "29946    4992 4997      2227  ...       Alexstrasza      315 182 133    58.0%   \n",
              "\n",
              "[4992 rows x 6 columns]"
            ]
          },
          "metadata": {
            "tags": []
          },
          "execution_count": 5
        }
      ]
    },
    {
      "cell_type": "code",
      "metadata": {
        "colab": {
          "base_uri": "https://localhost:8080/",
          "height": 504
        },
        "id": "kzG3Y41viRSQ",
        "cellView": "form",
        "outputId": "d395f664-b9bd-4fe6-f994-094fbcc59cb8"
      },
      "source": [
        "#@title Player Win/Lose Statistics\n",
        "### Player Win/Lose Statistics ###\n",
        "\n",
        "df_play_stat=df_total[['GamerTag','Rating','P/W/L/%']]\n",
        "df_play_stat.reset_index(inplace=True)\n",
        "df_play_stat.drop('index', axis=1, inplace=True)\n",
        "df_stats_num=df_play_stat.Rating.astype('int64')\n",
        "#print(df_stats_num.dtypes)\n",
        "\n",
        "\n",
        "split = df_play_stat['P/W/L/%'].str.split(' ',expand = True)\n",
        "#print(split)\n",
        "d = {'Plays':split[2],'Wins':split[3],'Loses':split[4]}\n",
        "df_stats = pd.DataFrame(data=d)\n",
        "df_stat_int=df_stats.astype('int64')\n",
        "#print(df_stat_int.dtypes)\n",
        "df_stat_int\n",
        "\n",
        "percent=[]\n",
        "win_lose=[]\n",
        "for games in df_stat_int:\n",
        "    player_percent=(df_stat_int['Wins']/df_stat_int['Plays'])*100\n",
        "    player_win_lose=(df_stat_int['Wins']/df_stat_int['Loses'])\n",
        "    percent.append(player_percent)\n",
        "    win_lose.append(player_win_lose)\n",
        "#print(percent)    \n",
        "df_raw=pd.DataFrame(percent)  \n",
        "df_percent=df_raw.drop_duplicates(keep='first',inplace=False)\n",
        "df_tperc=df_percent.transpose()\n",
        "df_tperc.columns =['WinPercent']\n",
        "df_P=df_tperc.astype('float')\n",
        "df_P\n",
        "\n",
        "df_raw_wl=pd.DataFrame(win_lose)  \n",
        "df_wl=df_raw_wl.drop_duplicates(keep='first',inplace=False)\n",
        "df_twl=df_wl.transpose()\n",
        "df_twl.columns =['Win/Lose']\n",
        "df_WL=df_twl.astype('float')\n",
        "df_WL\n",
        "\n",
        "df_total_stats=pd.concat([df_stat_int, df_P, df_WL], axis=1)\n",
        "df_total_stats\n",
        "\n",
        "df_player_stats=pd.concat([df_play_stat['GamerTag'],df_stats_num, df_total_stats], axis=1)\n",
        "df_player_stats.round(2)"
      ],
      "execution_count": null,
      "outputs": [
        {
          "output_type": "stream",
          "text": [
            "/usr/local/lib/python3.7/dist-packages/pandas/core/frame.py:4174: SettingWithCopyWarning: \n",
            "A value is trying to be set on a copy of a slice from a DataFrame\n",
            "\n",
            "See the caveats in the documentation: https://pandas.pydata.org/pandas-docs/stable/user_guide/indexing.html#returning-a-view-versus-a-copy\n",
            "  errors=errors,\n"
          ],
          "name": "stderr"
        },
        {
          "output_type": "execute_result",
          "data": {
            "text/html": [
              "<div>\n",
              "<style scoped>\n",
              "    .dataframe tbody tr th:only-of-type {\n",
              "        vertical-align: middle;\n",
              "    }\n",
              "\n",
              "    .dataframe tbody tr th {\n",
              "        vertical-align: top;\n",
              "    }\n",
              "\n",
              "    .dataframe thead th {\n",
              "        text-align: right;\n",
              "    }\n",
              "</style>\n",
              "<table border=\"1\" class=\"dataframe\">\n",
              "  <thead>\n",
              "    <tr style=\"text-align: right;\">\n",
              "      <th></th>\n",
              "      <th>GamerTag</th>\n",
              "      <th>Rating</th>\n",
              "      <th>Plays</th>\n",
              "      <th>Wins</th>\n",
              "      <th>Loses</th>\n",
              "      <th>WinPercent</th>\n",
              "      <th>Win/Lose</th>\n",
              "    </tr>\n",
              "  </thead>\n",
              "  <tbody>\n",
              "    <tr>\n",
              "      <th>0</th>\n",
              "      <td>Suspex</td>\n",
              "      <td>3064</td>\n",
              "      <td>229</td>\n",
              "      <td>198</td>\n",
              "      <td>31</td>\n",
              "      <td>86.46</td>\n",
              "      <td>6.39</td>\n",
              "    </tr>\n",
              "    <tr>\n",
              "      <th>1</th>\n",
              "      <td>Slipnslide</td>\n",
              "      <td>3036</td>\n",
              "      <td>160</td>\n",
              "      <td>120</td>\n",
              "      <td>40</td>\n",
              "      <td>75.00</td>\n",
              "      <td>3.00</td>\n",
              "    </tr>\n",
              "    <tr>\n",
              "      <th>2</th>\n",
              "      <td>Spanksv</td>\n",
              "      <td>3036</td>\n",
              "      <td>157</td>\n",
              "      <td>118</td>\n",
              "      <td>39</td>\n",
              "      <td>75.16</td>\n",
              "      <td>3.03</td>\n",
              "    </tr>\n",
              "    <tr>\n",
              "      <th>3</th>\n",
              "      <td>Vinnythepope</td>\n",
              "      <td>3026</td>\n",
              "      <td>164</td>\n",
              "      <td>123</td>\n",
              "      <td>41</td>\n",
              "      <td>75.00</td>\n",
              "      <td>3.00</td>\n",
              "    </tr>\n",
              "    <tr>\n",
              "      <th>4</th>\n",
              "      <td>Factszxy</td>\n",
              "      <td>3019</td>\n",
              "      <td>223</td>\n",
              "      <td>187</td>\n",
              "      <td>36</td>\n",
              "      <td>83.86</td>\n",
              "      <td>5.19</td>\n",
              "    </tr>\n",
              "    <tr>\n",
              "      <th>...</th>\n",
              "      <td>...</td>\n",
              "      <td>...</td>\n",
              "      <td>...</td>\n",
              "      <td>...</td>\n",
              "      <td>...</td>\n",
              "      <td>...</td>\n",
              "      <td>...</td>\n",
              "    </tr>\n",
              "    <tr>\n",
              "      <th>4987</th>\n",
              "      <td>Vicous</td>\n",
              "      <td>2227</td>\n",
              "      <td>138</td>\n",
              "      <td>87</td>\n",
              "      <td>51</td>\n",
              "      <td>63.04</td>\n",
              "      <td>1.71</td>\n",
              "    </tr>\n",
              "    <tr>\n",
              "      <th>4988</th>\n",
              "      <td>Woollygeezer</td>\n",
              "      <td>2227</td>\n",
              "      <td>93</td>\n",
              "      <td>53</td>\n",
              "      <td>40</td>\n",
              "      <td>56.99</td>\n",
              "      <td>1.32</td>\n",
              "    </tr>\n",
              "    <tr>\n",
              "      <th>4989</th>\n",
              "      <td>Yossh</td>\n",
              "      <td>2227</td>\n",
              "      <td>101</td>\n",
              "      <td>63</td>\n",
              "      <td>38</td>\n",
              "      <td>62.38</td>\n",
              "      <td>1.66</td>\n",
              "    </tr>\n",
              "    <tr>\n",
              "      <th>4990</th>\n",
              "      <td>Zimzer</td>\n",
              "      <td>2227</td>\n",
              "      <td>102</td>\n",
              "      <td>65</td>\n",
              "      <td>37</td>\n",
              "      <td>63.73</td>\n",
              "      <td>1.76</td>\n",
              "    </tr>\n",
              "    <tr>\n",
              "      <th>4991</th>\n",
              "      <td>Ðominant</td>\n",
              "      <td>2227</td>\n",
              "      <td>315</td>\n",
              "      <td>182</td>\n",
              "      <td>133</td>\n",
              "      <td>57.78</td>\n",
              "      <td>1.37</td>\n",
              "    </tr>\n",
              "  </tbody>\n",
              "</table>\n",
              "<p>4992 rows × 7 columns</p>\n",
              "</div>"
            ],
            "text/plain": [
              "                GamerTag  Rating  Plays  Wins  Loses  WinPercent  Win/Lose\n",
              "0                Suspex     3064    229   198     31       86.46      6.39\n",
              "1            Slipnslide     3036    160   120     40       75.00      3.00\n",
              "2               Spanksv     3036    157   118     39       75.16      3.03\n",
              "3          Vinnythepope     3026    164   123     41       75.00      3.00\n",
              "4              Factszxy     3019    223   187     36       83.86      5.19\n",
              "...                  ...     ...    ...   ...    ...         ...       ...\n",
              "4987             Vicous     2227    138    87     51       63.04      1.71\n",
              "4988       Woollygeezer     2227     93    53     40       56.99      1.32\n",
              "4989              Yossh     2227    101    63     38       62.38      1.66\n",
              "4990             Zimzer     2227    102    65     37       63.73      1.76\n",
              "4991           Ðominant     2227    315   182    133       57.78      1.37\n",
              "\n",
              "[4992 rows x 7 columns]"
            ]
          },
          "metadata": {
            "tags": []
          },
          "execution_count": 6
        }
      ]
    },
    {
      "cell_type": "code",
      "metadata": {
        "colab": {
          "base_uri": "https://localhost:8080/",
          "height": 1000
        },
        "id": "UrxMCUl3iRSR",
        "cellView": "form",
        "outputId": "691554bb-9d7f-42ae-fd10-f0c3dd1cf25a"
      },
      "source": [
        "#@title Stat, Rating Correlation\n",
        "### Stat, Rating Correlation ###\n",
        "\n",
        "df_player_stats.plot(kind='scatter', x='Plays', y='Rating', color='blue', title='Plays vs Rating')\n",
        "df_player_stats.plot(kind='scatter', x='Wins', y='Rating', color='green', title='Wins vs Rating')\n",
        "df_player_stats.plot(kind='scatter', x='Loses', y='Rating', color='red', title='Loses vs Rating')\n",
        "df_player_stats.plot(kind='scatter', x='WinPercent', y='Rating', color='yellow', title='WinPercent vs Rating')\n",
        "df_player_stats.plot(kind='scatter', x='Win/Lose', y='Rating', color='orange', title='Win/Lose vs Rating')\n",
        "df_player_stats.corr(method='pearson')"
      ],
      "execution_count": null,
      "outputs": [
        {
          "output_type": "execute_result",
          "data": {
            "text/html": [
              "<div>\n",
              "<style scoped>\n",
              "    .dataframe tbody tr th:only-of-type {\n",
              "        vertical-align: middle;\n",
              "    }\n",
              "\n",
              "    .dataframe tbody tr th {\n",
              "        vertical-align: top;\n",
              "    }\n",
              "\n",
              "    .dataframe thead th {\n",
              "        text-align: right;\n",
              "    }\n",
              "</style>\n",
              "<table border=\"1\" class=\"dataframe\">\n",
              "  <thead>\n",
              "    <tr style=\"text-align: right;\">\n",
              "      <th></th>\n",
              "      <th>Rating</th>\n",
              "      <th>Plays</th>\n",
              "      <th>Wins</th>\n",
              "      <th>Loses</th>\n",
              "      <th>WinPercent</th>\n",
              "      <th>Win/Lose</th>\n",
              "    </tr>\n",
              "  </thead>\n",
              "  <tbody>\n",
              "    <tr>\n",
              "      <th>Rating</th>\n",
              "      <td>1.000000</td>\n",
              "      <td>0.076608</td>\n",
              "      <td>0.180055</td>\n",
              "      <td>-0.066410</td>\n",
              "      <td>0.479786</td>\n",
              "      <td>0.465348</td>\n",
              "    </tr>\n",
              "    <tr>\n",
              "      <th>Plays</th>\n",
              "      <td>0.076608</td>\n",
              "      <td>1.000000</td>\n",
              "      <td>0.974019</td>\n",
              "      <td>0.954057</td>\n",
              "      <td>-0.188846</td>\n",
              "      <td>-0.103026</td>\n",
              "    </tr>\n",
              "    <tr>\n",
              "      <th>Wins</th>\n",
              "      <td>0.180055</td>\n",
              "      <td>0.974019</td>\n",
              "      <td>1.000000</td>\n",
              "      <td>0.861414</td>\n",
              "      <td>0.000020</td>\n",
              "      <td>0.068763</td>\n",
              "    </tr>\n",
              "    <tr>\n",
              "      <th>Loses</th>\n",
              "      <td>-0.066410</td>\n",
              "      <td>0.954057</td>\n",
              "      <td>0.861414</td>\n",
              "      <td>1.000000</td>\n",
              "      <td>-0.423557</td>\n",
              "      <td>-0.322036</td>\n",
              "    </tr>\n",
              "    <tr>\n",
              "      <th>WinPercent</th>\n",
              "      <td>0.479786</td>\n",
              "      <td>-0.188846</td>\n",
              "      <td>0.000020</td>\n",
              "      <td>-0.423557</td>\n",
              "      <td>1.000000</td>\n",
              "      <td>0.902319</td>\n",
              "    </tr>\n",
              "    <tr>\n",
              "      <th>Win/Lose</th>\n",
              "      <td>0.465348</td>\n",
              "      <td>-0.103026</td>\n",
              "      <td>0.068763</td>\n",
              "      <td>-0.322036</td>\n",
              "      <td>0.902319</td>\n",
              "      <td>1.000000</td>\n",
              "    </tr>\n",
              "  </tbody>\n",
              "</table>\n",
              "</div>"
            ],
            "text/plain": [
              "              Rating     Plays      Wins     Loses  WinPercent  Win/Lose\n",
              "Rating      1.000000  0.076608  0.180055 -0.066410    0.479786  0.465348\n",
              "Plays       0.076608  1.000000  0.974019  0.954057   -0.188846 -0.103026\n",
              "Wins        0.180055  0.974019  1.000000  0.861414    0.000020  0.068763\n",
              "Loses      -0.066410  0.954057  0.861414  1.000000   -0.423557 -0.322036\n",
              "WinPercent  0.479786 -0.188846  0.000020 -0.423557    1.000000  0.902319\n",
              "Win/Lose    0.465348 -0.103026  0.068763 -0.322036    0.902319  1.000000"
            ]
          },
          "metadata": {
            "tags": []
          },
          "execution_count": 7
        },
        {
          "output_type": "display_data",
          "data": {
            "image/png": "[encoded data removed]",
            "text/plain": [
              "<Figure size 432x288 with 1 Axes>"
            ]
          },
          "metadata": {
            "tags": [],
            "needs_background": "light"
          }
        },
        {
          "output_type": "display_data",
          "data": {
            "image/png": "[encoded data removed]",
            "text/plain": [
              "<Figure size 432x288 with 1 Axes>"
            ]
          },
          "metadata": {
            "tags": [],
            "needs_background": "light"
          }
        },
        {
          "output_type": "display_data",
          "data": {
            "image/png": "[encoded data removed]",
            "text/plain": [
              "<Figure size 432x288 with 1 Axes>"
            ]
          },
          "metadata": {
            "tags": [],
            "needs_background": "light"
          }
        },
        {
          "output_type": "display_data",
          "data": {
            "image/png": "[encoded data removed]",
            "text/plain": [
              "<Figure size 432x288 with 1 Axes>"
            ]
          },
          "metadata": {
            "tags": [],
            "needs_background": "light"
          }
        },
        {
          "output_type": "display_data",
          "data": {
            "image/png": "[encoded data removed]",
            "text/plain": [
              "<Figure size 432x288 with 1 Axes>"
            ]
          },
          "metadata": {
            "tags": [],
            "needs_background": "light"
          }
        }
      ]
    },
    {
      "cell_type": "code",
      "metadata": {
        "scrolled": true,
        "colab": {
          "base_uri": "https://localhost:8080/",
          "height": 461
        },
        "id": "SJutjQjUiRSR",
        "cellView": "form",
        "outputId": "f19659bc-e671-412b-b1fe-f17aa68e8e90"
      },
      "source": [
        "#@title Player Rank Table <br/><i>Top 10 Displayed</i>\n",
        "df_rating=df_total[['Rank','Rating','GamerTag']]\n",
        "df_rating.reset_index(inplace=True)\n",
        "df_rating.drop('index', axis=1, inplace=True)\n",
        "\n",
        "new = df_rating['Rank'].str.split(' ',expand = True)\n",
        "#print(new)\n",
        "df_rank=pd.DataFrame(new[3]) # US Rank #\n",
        "df_rank.columns=['Rank']\n",
        "df_rank\n",
        "\n",
        "df_rank_rate = pd.concat([df_rank, df_rating['Rating']], axis=1)\n",
        "df_rr=df_rank_rate.astype(float)\n",
        "df_rr\n",
        "\n",
        "df_player_rank=pd.concat([df_rank_rate, df_rating['GamerTag']], axis=1)\n",
        "df_player_rank\n",
        "\n",
        "df_LB=df_player_rank.astype({'Rank': 'int64', 'Rating':'int64','GamerTag':'string'},copy=False)\n",
        "#print(df_LB.dtypes)\n",
        "\n",
        "print('Displayed: Leaderboard Top 10')\n",
        "df_LB.head(10)"
      ],
      "execution_count": null,
      "outputs": [
        {
          "output_type": "stream",
          "text": [
            "Displayed: Leaderboard Top 10\n"
          ],
          "name": "stdout"
        },
        {
          "output_type": "stream",
          "text": [
            "/usr/local/lib/python3.7/dist-packages/pandas/core/frame.py:4174: SettingWithCopyWarning: \n",
            "A value is trying to be set on a copy of a slice from a DataFrame\n",
            "\n",
            "See the caveats in the documentation: https://pandas.pydata.org/pandas-docs/stable/user_guide/indexing.html#returning-a-view-versus-a-copy\n",
            "  errors=errors,\n"
          ],
          "name": "stderr"
        },
        {
          "output_type": "execute_result",
          "data": {
            "text/html": [
              "<div>\n",
              "<style scoped>\n",
              "    .dataframe tbody tr th:only-of-type {\n",
              "        vertical-align: middle;\n",
              "    }\n",
              "\n",
              "    .dataframe tbody tr th {\n",
              "        vertical-align: top;\n",
              "    }\n",
              "\n",
              "    .dataframe thead th {\n",
              "        text-align: right;\n",
              "    }\n",
              "</style>\n",
              "<table border=\"1\" class=\"dataframe\">\n",
              "  <thead>\n",
              "    <tr style=\"text-align: right;\">\n",
              "      <th></th>\n",
              "      <th>Rank</th>\n",
              "      <th>Rating</th>\n",
              "      <th>GamerTag</th>\n",
              "    </tr>\n",
              "  </thead>\n",
              "  <tbody>\n",
              "    <tr>\n",
              "      <th>0</th>\n",
              "      <td>1</td>\n",
              "      <td>3064</td>\n",
              "      <td>Suspex</td>\n",
              "    </tr>\n",
              "    <tr>\n",
              "      <th>1</th>\n",
              "      <td>2</td>\n",
              "      <td>3036</td>\n",
              "      <td>Slipnslide</td>\n",
              "    </tr>\n",
              "    <tr>\n",
              "      <th>2</th>\n",
              "      <td>2</td>\n",
              "      <td>3036</td>\n",
              "      <td>Spanksv</td>\n",
              "    </tr>\n",
              "    <tr>\n",
              "      <th>3</th>\n",
              "      <td>4</td>\n",
              "      <td>3026</td>\n",
              "      <td>Vinnythepope</td>\n",
              "    </tr>\n",
              "    <tr>\n",
              "      <th>4</th>\n",
              "      <td>5</td>\n",
              "      <td>3019</td>\n",
              "      <td>Factszxy</td>\n",
              "    </tr>\n",
              "    <tr>\n",
              "      <th>5</th>\n",
              "      <td>6</td>\n",
              "      <td>3008</td>\n",
              "      <td>Manatears</td>\n",
              "    </tr>\n",
              "    <tr>\n",
              "      <th>6</th>\n",
              "      <td>7</td>\n",
              "      <td>3002</td>\n",
              "      <td>Pvpally</td>\n",
              "    </tr>\n",
              "    <tr>\n",
              "      <th>7</th>\n",
              "      <td>8</td>\n",
              "      <td>2998</td>\n",
              "      <td>Rip</td>\n",
              "    </tr>\n",
              "    <tr>\n",
              "      <th>8</th>\n",
              "      <td>9</td>\n",
              "      <td>2994</td>\n",
              "      <td>Camellita</td>\n",
              "    </tr>\n",
              "    <tr>\n",
              "      <th>9</th>\n",
              "      <td>10</td>\n",
              "      <td>2991</td>\n",
              "      <td>Kxitlyn</td>\n",
              "    </tr>\n",
              "  </tbody>\n",
              "</table>\n",
              "</div>"
            ],
            "text/plain": [
              "   Rank  Rating            GamerTag\n",
              "0     1    3064             Suspex \n",
              "1     2    3036         Slipnslide \n",
              "2     2    3036            Spanksv \n",
              "3     4    3026       Vinnythepope \n",
              "4     5    3019           Factszxy \n",
              "5     6    3008          Manatears \n",
              "6     7    3002            Pvpally \n",
              "7     8    2998                Rip \n",
              "8     9    2994          Camellita \n",
              "9    10    2991            Kxitlyn "
            ]
          },
          "metadata": {
            "tags": []
          },
          "execution_count": 8
        }
      ]
    },
    {
      "cell_type": "code",
      "metadata": {
        "colab": {
          "base_uri": "https://localhost:8080/"
        },
        "id": "_YQ4j60BiRSS",
        "cellView": "form",
        "outputId": "f7e6a8d7-cbab-427b-b757-d5e5b63e912f"
      },
      "source": [
        "#@title Player Stats\n",
        "### Player Stats ###\n",
        "\n",
        "df_player=df_LB[df_LB['GamerTag'].str.contains(GamerTag)]\n",
        "player_rating=df_player['Rating'].iloc[0]\n",
        "player_rank=df_player['Rank'].iloc[0]\n",
        "df_player_play_stats=df_player_stats[df_player_stats['GamerTag'].str.contains(GamerTag)]\n",
        "player_wins=df_player_play_stats['Wins'].iloc[0]\n",
        "player_loses=df_player_play_stats['Loses'].iloc[0]\n",
        "player_win_perc=df_player_play_stats['WinPercent'].iloc[0]\n",
        "print('Gamer: ' + str(GamerTag))\n",
        "print('Player Rating: ' + str(player_rating))\n",
        "print('Player Rank: ' + str(player_rank))\n",
        "print('Player Wins: ' + str(player_wins))\n",
        "print('Player Loses: ' + str(player_loses))\n",
        "print('Player Win Percent: ' + str(player_win_perc.round(2)))"
      ],
      "execution_count": null,
      "outputs": [
        {
          "output_type": "stream",
          "text": [
            "Gamer: Fiido\n",
            "Player Rating: 2495\n",
            "Player Rank: 845\n",
            "Player Wins: 98\n",
            "Player Loses: 53\n",
            "Player Win Percent: 64.9\n"
          ],
          "name": "stdout"
        }
      ]
    },
    {
      "cell_type": "code",
      "metadata": {
        "id": "h3ODK0-YiRSS",
        "cellView": "form",
        "colab": {
          "base_uri": "https://localhost:8080/"
        },
        "outputId": "57b23ed7-768c-4aa9-997a-3011f23df108"
      },
      "source": [
        "#@title Current Hero Rating Cutoff\n",
        "### Current Hero Rating Cutoff ###\n",
        "\n",
        "start_link='https://www.arenamate.net/arena-rbg-title-cutoffs'\n",
        "data = requests.get(start_link).text \n",
        "soup = BeautifulSoup(data,\"html5lib\")\n",
        "archive_link = soup.find(\"div\", attrs={\"class\": \"dropdown\"})\n",
        "body=soup.find_all( 'strong')\n",
        "#print(body)\n",
        "#print(len(body))\n",
        "str_value=str(body[24])\n",
        "horde_rating=int(str_value[8:12])\n",
        "horde_rating\n",
        "print('Current Hero Rating Cutoff: ' + str(horde_rating))\n",
        "print(' ')\n",
        "\n",
        "### Did you make the cutoff? ###\n",
        "\n",
        "if player_rating >= horde_rating:\n",
        "    print(str(GamerTag) +' is Above the Cutoff')\n",
        "    print('Winner Winner!')\n",
        "else:\n",
        "    print(str(GamerTag) +' is a loser, try harder next time.')"
      ],
      "execution_count": null,
      "outputs": [
        {
          "output_type": "stream",
          "text": [
            "Current Hero Rating Cutoff: 2437\n",
            " \n",
            "Fiido is Above the Cutoff\n",
            "Winner Winner!\n"
          ],
          "name": "stdout"
        }
      ]
    },
    {
      "cell_type": "code",
      "metadata": {
        "id": "FMlxugdaiRSS",
        "cellView": "form",
        "colab": {
          "base_uri": "https://localhost:8080/",
          "height": 575
        },
        "outputId": "c7eb0257-cd95-4183-ca73-d10b0d4ca0f5"
      },
      "source": [
        "#@title Leaderboard Rank & Rating Graph\n",
        "### Leaderboard Rank & Rating ###\n",
        "\n",
        "df_LB.plot(x='Rank', y='Rating', color='black', title='Leaderboard Ratings')\n",
        "hero=plt.axhline(horde_rating, color='r', linestyle='dashed', label='Hero')\n",
        "player=plt.axhline(player_rating, color='g', linestyle='-', label='Player')\n",
        "plt.legend(handles=[hero, player])\n",
        "df_LB.describe()\n"
      ],
      "execution_count": null,
      "outputs": [
        {
          "output_type": "execute_result",
          "data": {
            "text/html": [
              "<div>\n",
              "<style scoped>\n",
              "    .dataframe tbody tr th:only-of-type {\n",
              "        vertical-align: middle;\n",
              "    }\n",
              "\n",
              "    .dataframe tbody tr th {\n",
              "        vertical-align: top;\n",
              "    }\n",
              "\n",
              "    .dataframe thead th {\n",
              "        text-align: right;\n",
              "    }\n",
              "</style>\n",
              "<table border=\"1\" class=\"dataframe\">\n",
              "  <thead>\n",
              "    <tr style=\"text-align: right;\">\n",
              "      <th></th>\n",
              "      <th>Rank</th>\n",
              "      <th>Rating</th>\n",
              "    </tr>\n",
              "  </thead>\n",
              "  <tbody>\n",
              "    <tr>\n",
              "      <th>count</th>\n",
              "      <td>4992.000000</td>\n",
              "      <td>4992.000000</td>\n",
              "    </tr>\n",
              "    <tr>\n",
              "      <th>mean</th>\n",
              "      <td>2502.636018</td>\n",
              "      <td>2388.267829</td>\n",
              "    </tr>\n",
              "    <tr>\n",
              "      <th>std</th>\n",
              "      <td>1447.374311</td>\n",
              "      <td>132.249261</td>\n",
              "    </tr>\n",
              "    <tr>\n",
              "      <th>min</th>\n",
              "      <td>1.000000</td>\n",
              "      <td>2227.000000</td>\n",
              "    </tr>\n",
              "    <tr>\n",
              "      <th>25%</th>\n",
              "      <td>1254.000000</td>\n",
              "      <td>2282.000000</td>\n",
              "    </tr>\n",
              "    <tr>\n",
              "      <th>50%</th>\n",
              "      <td>2504.000000</td>\n",
              "      <td>2371.000000</td>\n",
              "    </tr>\n",
              "    <tr>\n",
              "      <th>75%</th>\n",
              "      <td>3766.000000</td>\n",
              "      <td>2444.000000</td>\n",
              "    </tr>\n",
              "    <tr>\n",
              "      <th>max</th>\n",
              "      <td>4997.000000</td>\n",
              "      <td>3064.000000</td>\n",
              "    </tr>\n",
              "  </tbody>\n",
              "</table>\n",
              "</div>"
            ],
            "text/plain": [
              "              Rank       Rating\n",
              "count  4992.000000  4992.000000\n",
              "mean   2502.636018  2388.267829\n",
              "std    1447.374311   132.249261\n",
              "min       1.000000  2227.000000\n",
              "25%    1254.000000  2282.000000\n",
              "50%    2504.000000  2371.000000\n",
              "75%    3766.000000  2444.000000\n",
              "max    4997.000000  3064.000000"
            ]
          },
          "metadata": {
            "tags": []
          },
          "execution_count": 11
        },
        {
          "output_type": "display_data",
          "data": {
            "image/png": "[encoded data removed]",
            "text/plain": [
              "<Figure size 432x288 with 1 Axes>"
            ]
          },
          "metadata": {
            "tags": [],
            "needs_background": "light"
          }
        }
      ]
    },
    {
      "cell_type": "code",
      "metadata": {
        "id": "AUczURm-iRST",
        "cellView": "form",
        "colab": {
          "base_uri": "https://localhost:8080/",
          "height": 298
        },
        "outputId": "860fb07a-ac9e-4c8b-da15-440c0be89db5"
      },
      "source": [
        "#@title Leaderboard Rating Frequency Graph\n",
        "### Leaderboard Histogram ###\n",
        "\n",
        "df_LB.Rating.plot(kind='hist', bins=25, color='black', title='Leaderboard Ratings')\n",
        "hero=plt.axvline(horde_rating, color='r', linestyle='dashed', label='Hero')\n",
        "player=plt.axvline(player_rating, color='g', linestyle='-', label='Player')\n",
        "plt.legend(handles=[hero, player])"
      ],
      "execution_count": null,
      "outputs": [
        {
          "output_type": "execute_result",
          "data": {
            "text/plain": [
              "<matplotlib.legend.Legend at 0x7fb8d47cbd10>"
            ]
          },
          "metadata": {
            "tags": []
          },
          "execution_count": 12
        },
        {
          "output_type": "display_data",
          "data": {
            "image/png": "[encoded data removed]",
            "text/plain": [
              "<Figure size 432x288 with 1 Axes>"
            ]
          },
          "metadata": {
            "tags": [],
            "needs_background": "light"
          }
        }
      ]
    },
    {
      "cell_type": "code",
      "metadata": {
        "id": "aY2EoyyOiRST",
        "cellView": "form",
        "colab": {
          "base_uri": "https://localhost:8080/",
          "height": 419
        },
        "outputId": "c697757e-29a1-48d1-873e-42ef507aae24"
      },
      "source": [
        "#@title Rating Frequency\n",
        "### Rating Frequency ###\n",
        "\n",
        "df_stat=df_rr.groupby('Rating').count()\n",
        "df_count=df_stat.reset_index()\n",
        "df_count.rename(columns={'Rank':'Count'}, inplace=True)\n",
        "df_count"
      ],
      "execution_count": null,
      "outputs": [
        {
          "output_type": "execute_result",
          "data": {
            "text/html": [
              "<div>\n",
              "<style scoped>\n",
              "    .dataframe tbody tr th:only-of-type {\n",
              "        vertical-align: middle;\n",
              "    }\n",
              "\n",
              "    .dataframe tbody tr th {\n",
              "        vertical-align: top;\n",
              "    }\n",
              "\n",
              "    .dataframe thead th {\n",
              "        text-align: right;\n",
              "    }\n",
              "</style>\n",
              "<table border=\"1\" class=\"dataframe\">\n",
              "  <thead>\n",
              "    <tr style=\"text-align: right;\">\n",
              "      <th></th>\n",
              "      <th>Rating</th>\n",
              "      <th>Count</th>\n",
              "    </tr>\n",
              "  </thead>\n",
              "  <tbody>\n",
              "    <tr>\n",
              "      <th>0</th>\n",
              "      <td>2227.0</td>\n",
              "      <td>24</td>\n",
              "    </tr>\n",
              "    <tr>\n",
              "      <th>1</th>\n",
              "      <td>2228.0</td>\n",
              "      <td>28</td>\n",
              "    </tr>\n",
              "    <tr>\n",
              "      <th>2</th>\n",
              "      <td>2229.0</td>\n",
              "      <td>27</td>\n",
              "    </tr>\n",
              "    <tr>\n",
              "      <th>3</th>\n",
              "      <td>2230.0</td>\n",
              "      <td>33</td>\n",
              "    </tr>\n",
              "    <tr>\n",
              "      <th>4</th>\n",
              "      <td>2231.0</td>\n",
              "      <td>24</td>\n",
              "    </tr>\n",
              "    <tr>\n",
              "      <th>...</th>\n",
              "      <td>...</td>\n",
              "      <td>...</td>\n",
              "    </tr>\n",
              "    <tr>\n",
              "      <th>557</th>\n",
              "      <td>3008.0</td>\n",
              "      <td>1</td>\n",
              "    </tr>\n",
              "    <tr>\n",
              "      <th>558</th>\n",
              "      <td>3019.0</td>\n",
              "      <td>1</td>\n",
              "    </tr>\n",
              "    <tr>\n",
              "      <th>559</th>\n",
              "      <td>3026.0</td>\n",
              "      <td>1</td>\n",
              "    </tr>\n",
              "    <tr>\n",
              "      <th>560</th>\n",
              "      <td>3036.0</td>\n",
              "      <td>2</td>\n",
              "    </tr>\n",
              "    <tr>\n",
              "      <th>561</th>\n",
              "      <td>3064.0</td>\n",
              "      <td>1</td>\n",
              "    </tr>\n",
              "  </tbody>\n",
              "</table>\n",
              "<p>562 rows × 2 columns</p>\n",
              "</div>"
            ],
            "text/plain": [
              "     Rating  Count\n",
              "0    2227.0     24\n",
              "1    2228.0     28\n",
              "2    2229.0     27\n",
              "3    2230.0     33\n",
              "4    2231.0     24\n",
              "..      ...    ...\n",
              "557  3008.0      1\n",
              "558  3019.0      1\n",
              "559  3026.0      1\n",
              "560  3036.0      2\n",
              "561  3064.0      1\n",
              "\n",
              "[562 rows x 2 columns]"
            ]
          },
          "metadata": {
            "tags": []
          },
          "execution_count": 13
        }
      ]
    },
    {
      "cell_type": "code",
      "metadata": {
        "id": "O4LiSQ12iRSU",
        "cellView": "form",
        "colab": {
          "base_uri": "https://localhost:8080/",
          "height": 575
        },
        "outputId": "47e6c2be-b2bc-4bc2-d7ea-d910cdc252b9"
      },
      "source": [
        "#@title Leaderboard Rating Fequency Graph\n",
        "### Leaderboard Rating Fequency ###\n",
        "\n",
        "df_count.plot(x='Rating', y='Count', color='black', title='Leaderboard Rating Frequency')\n",
        "hero=plt.axvline(horde_rating, color='r', linestyle='dashed', label='Hero')\n",
        "player=plt.axvline(player_rating, color='g', linestyle='-', label='Player')\n",
        "plt.legend(handles=[hero, player])\n",
        "df_count.describe()"
      ],
      "execution_count": null,
      "outputs": [
        {
          "output_type": "execute_result",
          "data": {
            "text/html": [
              "<div>\n",
              "<style scoped>\n",
              "    .dataframe tbody tr th:only-of-type {\n",
              "        vertical-align: middle;\n",
              "    }\n",
              "\n",
              "    .dataframe tbody tr th {\n",
              "        vertical-align: top;\n",
              "    }\n",
              "\n",
              "    .dataframe thead th {\n",
              "        text-align: right;\n",
              "    }\n",
              "</style>\n",
              "<table border=\"1\" class=\"dataframe\">\n",
              "  <thead>\n",
              "    <tr style=\"text-align: right;\">\n",
              "      <th></th>\n",
              "      <th>Rating</th>\n",
              "      <th>Count</th>\n",
              "    </tr>\n",
              "  </thead>\n",
              "  <tbody>\n",
              "    <tr>\n",
              "      <th>count</th>\n",
              "      <td>562.000000</td>\n",
              "      <td>562.000000</td>\n",
              "    </tr>\n",
              "    <tr>\n",
              "      <th>mean</th>\n",
              "      <td>2525.613879</td>\n",
              "      <td>8.882562</td>\n",
              "    </tr>\n",
              "    <tr>\n",
              "      <th>std</th>\n",
              "      <td>192.565174</td>\n",
              "      <td>8.306972</td>\n",
              "    </tr>\n",
              "    <tr>\n",
              "      <th>min</th>\n",
              "      <td>2227.000000</td>\n",
              "      <td>1.000000</td>\n",
              "    </tr>\n",
              "    <tr>\n",
              "      <th>25%</th>\n",
              "      <td>2367.250000</td>\n",
              "      <td>2.000000</td>\n",
              "    </tr>\n",
              "    <tr>\n",
              "      <th>50%</th>\n",
              "      <td>2507.500000</td>\n",
              "      <td>6.000000</td>\n",
              "    </tr>\n",
              "    <tr>\n",
              "      <th>75%</th>\n",
              "      <td>2655.750000</td>\n",
              "      <td>13.000000</td>\n",
              "    </tr>\n",
              "    <tr>\n",
              "      <th>max</th>\n",
              "      <td>3064.000000</td>\n",
              "      <td>42.000000</td>\n",
              "    </tr>\n",
              "  </tbody>\n",
              "</table>\n",
              "</div>"
            ],
            "text/plain": [
              "            Rating       Count\n",
              "count   562.000000  562.000000\n",
              "mean   2525.613879    8.882562\n",
              "std     192.565174    8.306972\n",
              "min    2227.000000    1.000000\n",
              "25%    2367.250000    2.000000\n",
              "50%    2507.500000    6.000000\n",
              "75%    2655.750000   13.000000\n",
              "max    3064.000000   42.000000"
            ]
          },
          "metadata": {
            "tags": []
          },
          "execution_count": 14
        },
        {
          "output_type": "display_data",
          "data": {
            "image/png": "[encoded data removed]",
            "text/plain": [
              "<Figure size 432x288 with 1 Axes>"
            ]
          },
          "metadata": {
            "tags": [],
            "needs_background": "light"
          }
        }
      ]
    },
    {
      "cell_type": "code",
      "metadata": {
        "id": "4b3BU-v_iRSU",
        "cellView": "form",
        "colab": {
          "base_uri": "https://localhost:8080/",
          "height": 419
        },
        "outputId": "222f84da-c0bf-46ff-f939-62218550496a"
      },
      "source": [
        "#@title Hero Data Table<br><i>Rank and Rating within Hero Cutoff</i>\n",
        "### Hero Data ###\n",
        "\n",
        "df_cutoff = df_rr.loc[df_rr['Rating'] >= horde_rating]\n",
        "df_cutoff"
      ],
      "execution_count": null,
      "outputs": [
        {
          "output_type": "execute_result",
          "data": {
            "text/html": [
              "<div>\n",
              "<style scoped>\n",
              "    .dataframe tbody tr th:only-of-type {\n",
              "        vertical-align: middle;\n",
              "    }\n",
              "\n",
              "    .dataframe tbody tr th {\n",
              "        vertical-align: top;\n",
              "    }\n",
              "\n",
              "    .dataframe thead th {\n",
              "        text-align: right;\n",
              "    }\n",
              "</style>\n",
              "<table border=\"1\" class=\"dataframe\">\n",
              "  <thead>\n",
              "    <tr style=\"text-align: right;\">\n",
              "      <th></th>\n",
              "      <th>Rank</th>\n",
              "      <th>Rating</th>\n",
              "    </tr>\n",
              "  </thead>\n",
              "  <tbody>\n",
              "    <tr>\n",
              "      <th>0</th>\n",
              "      <td>1.0</td>\n",
              "      <td>3064.0</td>\n",
              "    </tr>\n",
              "    <tr>\n",
              "      <th>1</th>\n",
              "      <td>2.0</td>\n",
              "      <td>3036.0</td>\n",
              "    </tr>\n",
              "    <tr>\n",
              "      <th>2</th>\n",
              "      <td>2.0</td>\n",
              "      <td>3036.0</td>\n",
              "    </tr>\n",
              "    <tr>\n",
              "      <th>3</th>\n",
              "      <td>4.0</td>\n",
              "      <td>3026.0</td>\n",
              "    </tr>\n",
              "    <tr>\n",
              "      <th>4</th>\n",
              "      <td>5.0</td>\n",
              "      <td>3019.0</td>\n",
              "    </tr>\n",
              "    <tr>\n",
              "      <th>...</th>\n",
              "      <td>...</td>\n",
              "      <td>...</td>\n",
              "    </tr>\n",
              "    <tr>\n",
              "      <th>1340</th>\n",
              "      <td>1341.0</td>\n",
              "      <td>2437.0</td>\n",
              "    </tr>\n",
              "    <tr>\n",
              "      <th>1341</th>\n",
              "      <td>1341.0</td>\n",
              "      <td>2437.0</td>\n",
              "    </tr>\n",
              "    <tr>\n",
              "      <th>1342</th>\n",
              "      <td>1341.0</td>\n",
              "      <td>2437.0</td>\n",
              "    </tr>\n",
              "    <tr>\n",
              "      <th>1343</th>\n",
              "      <td>1341.0</td>\n",
              "      <td>2437.0</td>\n",
              "    </tr>\n",
              "    <tr>\n",
              "      <th>1344</th>\n",
              "      <td>1341.0</td>\n",
              "      <td>2437.0</td>\n",
              "    </tr>\n",
              "  </tbody>\n",
              "</table>\n",
              "<p>1345 rows × 2 columns</p>\n",
              "</div>"
            ],
            "text/plain": [
              "        Rank  Rating\n",
              "0        1.0  3064.0\n",
              "1        2.0  3036.0\n",
              "2        2.0  3036.0\n",
              "3        4.0  3026.0\n",
              "4        5.0  3019.0\n",
              "...      ...     ...\n",
              "1340  1341.0  2437.0\n",
              "1341  1341.0  2437.0\n",
              "1342  1341.0  2437.0\n",
              "1343  1341.0  2437.0\n",
              "1344  1341.0  2437.0\n",
              "\n",
              "[1345 rows x 2 columns]"
            ]
          },
          "metadata": {
            "tags": []
          },
          "execution_count": 15
        }
      ]
    },
    {
      "cell_type": "code",
      "metadata": {
        "id": "kpgdloYLiRSU",
        "cellView": "form",
        "colab": {
          "base_uri": "https://localhost:8080/",
          "height": 419
        },
        "outputId": "f78540b1-2a8e-4f4b-8551-8fa0564f1321"
      },
      "source": [
        "#@title Below 2400 Rating\n",
        "### Below 2400 Rating ###\n",
        "\n",
        "df_losers=df_rr.loc[df_rr['Rating'] < 2400]\n",
        "df_losers"
      ],
      "execution_count": null,
      "outputs": [
        {
          "output_type": "execute_result",
          "data": {
            "text/html": [
              "<div>\n",
              "<style scoped>\n",
              "    .dataframe tbody tr th:only-of-type {\n",
              "        vertical-align: middle;\n",
              "    }\n",
              "\n",
              "    .dataframe tbody tr th {\n",
              "        vertical-align: top;\n",
              "    }\n",
              "\n",
              "    .dataframe thead th {\n",
              "        text-align: right;\n",
              "    }\n",
              "</style>\n",
              "<table border=\"1\" class=\"dataframe\">\n",
              "  <thead>\n",
              "    <tr style=\"text-align: right;\">\n",
              "      <th></th>\n",
              "      <th>Rank</th>\n",
              "      <th>Rating</th>\n",
              "    </tr>\n",
              "  </thead>\n",
              "  <tbody>\n",
              "    <tr>\n",
              "      <th>2161</th>\n",
              "      <td>2172.0</td>\n",
              "      <td>2399.0</td>\n",
              "    </tr>\n",
              "    <tr>\n",
              "      <th>2162</th>\n",
              "      <td>2172.0</td>\n",
              "      <td>2399.0</td>\n",
              "    </tr>\n",
              "    <tr>\n",
              "      <th>2163</th>\n",
              "      <td>2172.0</td>\n",
              "      <td>2399.0</td>\n",
              "    </tr>\n",
              "    <tr>\n",
              "      <th>2164</th>\n",
              "      <td>2172.0</td>\n",
              "      <td>2399.0</td>\n",
              "    </tr>\n",
              "    <tr>\n",
              "      <th>2165</th>\n",
              "      <td>2172.0</td>\n",
              "      <td>2399.0</td>\n",
              "    </tr>\n",
              "    <tr>\n",
              "      <th>...</th>\n",
              "      <td>...</td>\n",
              "      <td>...</td>\n",
              "    </tr>\n",
              "    <tr>\n",
              "      <th>4987</th>\n",
              "      <td>4997.0</td>\n",
              "      <td>2227.0</td>\n",
              "    </tr>\n",
              "    <tr>\n",
              "      <th>4988</th>\n",
              "      <td>4997.0</td>\n",
              "      <td>2227.0</td>\n",
              "    </tr>\n",
              "    <tr>\n",
              "      <th>4989</th>\n",
              "      <td>4997.0</td>\n",
              "      <td>2227.0</td>\n",
              "    </tr>\n",
              "    <tr>\n",
              "      <th>4990</th>\n",
              "      <td>4997.0</td>\n",
              "      <td>2227.0</td>\n",
              "    </tr>\n",
              "    <tr>\n",
              "      <th>4991</th>\n",
              "      <td>4997.0</td>\n",
              "      <td>2227.0</td>\n",
              "    </tr>\n",
              "  </tbody>\n",
              "</table>\n",
              "<p>2831 rows × 2 columns</p>\n",
              "</div>"
            ],
            "text/plain": [
              "        Rank  Rating\n",
              "2161  2172.0  2399.0\n",
              "2162  2172.0  2399.0\n",
              "2163  2172.0  2399.0\n",
              "2164  2172.0  2399.0\n",
              "2165  2172.0  2399.0\n",
              "...      ...     ...\n",
              "4987  4997.0  2227.0\n",
              "4988  4997.0  2227.0\n",
              "4989  4997.0  2227.0\n",
              "4990  4997.0  2227.0\n",
              "4991  4997.0  2227.0\n",
              "\n",
              "[2831 rows x 2 columns]"
            ]
          },
          "metadata": {
            "tags": []
          },
          "execution_count": 16
        }
      ]
    },
    {
      "cell_type": "code",
      "metadata": {
        "id": "zF6bstt_iRSU",
        "cellView": "form",
        "colab": {
          "base_uri": "https://localhost:8080/",
          "height": 419
        },
        "outputId": "a51376a1-7403-4443-9c3c-dce795e17c04"
      },
      "source": [
        "#@title Close to Cutoff <br><i>Above 2400, Below Cutoff</i>\n",
        "### Close to Cutoff ###\n",
        "\n",
        "df_top=df_rr.drop(index=df_losers.index)\n",
        "df_close=df_top.drop(index=df_cutoff.index)\n",
        "df_close"
      ],
      "execution_count": null,
      "outputs": [
        {
          "output_type": "execute_result",
          "data": {
            "text/html": [
              "<div>\n",
              "<style scoped>\n",
              "    .dataframe tbody tr th:only-of-type {\n",
              "        vertical-align: middle;\n",
              "    }\n",
              "\n",
              "    .dataframe tbody tr th {\n",
              "        vertical-align: top;\n",
              "    }\n",
              "\n",
              "    .dataframe thead th {\n",
              "        text-align: right;\n",
              "    }\n",
              "</style>\n",
              "<table border=\"1\" class=\"dataframe\">\n",
              "  <thead>\n",
              "    <tr style=\"text-align: right;\">\n",
              "      <th></th>\n",
              "      <th>Rank</th>\n",
              "      <th>Rating</th>\n",
              "    </tr>\n",
              "  </thead>\n",
              "  <tbody>\n",
              "    <tr>\n",
              "      <th>1345</th>\n",
              "      <td>1353.0</td>\n",
              "      <td>2436.0</td>\n",
              "    </tr>\n",
              "    <tr>\n",
              "      <th>1346</th>\n",
              "      <td>1353.0</td>\n",
              "      <td>2436.0</td>\n",
              "    </tr>\n",
              "    <tr>\n",
              "      <th>1347</th>\n",
              "      <td>1353.0</td>\n",
              "      <td>2436.0</td>\n",
              "    </tr>\n",
              "    <tr>\n",
              "      <th>1348</th>\n",
              "      <td>1353.0</td>\n",
              "      <td>2436.0</td>\n",
              "    </tr>\n",
              "    <tr>\n",
              "      <th>1349</th>\n",
              "      <td>1353.0</td>\n",
              "      <td>2436.0</td>\n",
              "    </tr>\n",
              "    <tr>\n",
              "      <th>...</th>\n",
              "      <td>...</td>\n",
              "      <td>...</td>\n",
              "    </tr>\n",
              "    <tr>\n",
              "      <th>2156</th>\n",
              "      <td>2130.0</td>\n",
              "      <td>2400.0</td>\n",
              "    </tr>\n",
              "    <tr>\n",
              "      <th>2157</th>\n",
              "      <td>2130.0</td>\n",
              "      <td>2400.0</td>\n",
              "    </tr>\n",
              "    <tr>\n",
              "      <th>2158</th>\n",
              "      <td>2130.0</td>\n",
              "      <td>2400.0</td>\n",
              "    </tr>\n",
              "    <tr>\n",
              "      <th>2159</th>\n",
              "      <td>2130.0</td>\n",
              "      <td>2400.0</td>\n",
              "    </tr>\n",
              "    <tr>\n",
              "      <th>2160</th>\n",
              "      <td>2130.0</td>\n",
              "      <td>2400.0</td>\n",
              "    </tr>\n",
              "  </tbody>\n",
              "</table>\n",
              "<p>816 rows × 2 columns</p>\n",
              "</div>"
            ],
            "text/plain": [
              "        Rank  Rating\n",
              "1345  1353.0  2436.0\n",
              "1346  1353.0  2436.0\n",
              "1347  1353.0  2436.0\n",
              "1348  1353.0  2436.0\n",
              "1349  1353.0  2436.0\n",
              "...      ...     ...\n",
              "2156  2130.0  2400.0\n",
              "2157  2130.0  2400.0\n",
              "2158  2130.0  2400.0\n",
              "2159  2130.0  2400.0\n",
              "2160  2130.0  2400.0\n",
              "\n",
              "[816 rows x 2 columns]"
            ]
          },
          "metadata": {
            "tags": []
          },
          "execution_count": 17
        }
      ]
    },
    {
      "cell_type": "code",
      "metadata": {
        "id": "hh0DzbQjiRSV",
        "cellView": "form",
        "colab": {
          "base_uri": "https://localhost:8080/",
          "height": 297
        },
        "outputId": "701393f3-6ee1-4c89-c859-5a15438e6302"
      },
      "source": [
        "#@title Close to Cutoff Distribution Table\n",
        "df_close.describe()"
      ],
      "execution_count": null,
      "outputs": [
        {
          "output_type": "execute_result",
          "data": {
            "text/html": [
              "<div>\n",
              "<style scoped>\n",
              "    .dataframe tbody tr th:only-of-type {\n",
              "        vertical-align: middle;\n",
              "    }\n",
              "\n",
              "    .dataframe tbody tr th {\n",
              "        vertical-align: top;\n",
              "    }\n",
              "\n",
              "    .dataframe thead th {\n",
              "        text-align: right;\n",
              "    }\n",
              "</style>\n",
              "<table border=\"1\" class=\"dataframe\">\n",
              "  <thead>\n",
              "    <tr style=\"text-align: right;\">\n",
              "      <th></th>\n",
              "      <th>Rank</th>\n",
              "      <th>Rating</th>\n",
              "    </tr>\n",
              "  </thead>\n",
              "  <tbody>\n",
              "    <tr>\n",
              "      <th>count</th>\n",
              "      <td>816.000000</td>\n",
              "      <td>816.000000</td>\n",
              "    </tr>\n",
              "    <tr>\n",
              "      <th>mean</th>\n",
              "      <td>1749.824755</td>\n",
              "      <td>2413.863971</td>\n",
              "    </tr>\n",
              "    <tr>\n",
              "      <th>std</th>\n",
              "      <td>231.695961</td>\n",
              "      <td>10.408933</td>\n",
              "    </tr>\n",
              "    <tr>\n",
              "      <th>min</th>\n",
              "      <td>1353.000000</td>\n",
              "      <td>2400.000000</td>\n",
              "    </tr>\n",
              "    <tr>\n",
              "      <th>25%</th>\n",
              "      <td>1558.000000</td>\n",
              "      <td>2405.000000</td>\n",
              "    </tr>\n",
              "    <tr>\n",
              "      <th>50%</th>\n",
              "      <td>1748.000000</td>\n",
              "      <td>2412.000000</td>\n",
              "    </tr>\n",
              "    <tr>\n",
              "      <th>75%</th>\n",
              "      <td>1946.000000</td>\n",
              "      <td>2421.000000</td>\n",
              "    </tr>\n",
              "    <tr>\n",
              "      <th>max</th>\n",
              "      <td>2130.000000</td>\n",
              "      <td>2436.000000</td>\n",
              "    </tr>\n",
              "  </tbody>\n",
              "</table>\n",
              "</div>"
            ],
            "text/plain": [
              "              Rank       Rating\n",
              "count   816.000000   816.000000\n",
              "mean   1749.824755  2413.863971\n",
              "std     231.695961    10.408933\n",
              "min    1353.000000  2400.000000\n",
              "25%    1558.000000  2405.000000\n",
              "50%    1748.000000  2412.000000\n",
              "75%    1946.000000  2421.000000\n",
              "max    2130.000000  2436.000000"
            ]
          },
          "metadata": {
            "tags": []
          },
          "execution_count": 18
        }
      ]
    },
    {
      "cell_type": "code",
      "metadata": {
        "scrolled": true,
        "id": "2sJIOX_giRSV",
        "cellView": "form",
        "colab": {
          "base_uri": "https://localhost:8080/",
          "height": 1000
        },
        "outputId": "142f4eae-bbd1-44dd-f8ab-8f1bd04049fa"
      },
      "source": [
        "#@title Close to Cutoff Frequency\n",
        "# Close to Cutoff Frequency ###\n",
        "\n",
        "df_close_range=df_close.groupby('Rating').count().reset_index()\n",
        "df_close_range.rename(columns={'Rank':'Count'}, inplace=True)\n",
        "df_close_range"
      ],
      "execution_count": null,
      "outputs": [
        {
          "output_type": "execute_result",
          "data": {
            "text/html": [
              "<div>\n",
              "<style scoped>\n",
              "    .dataframe tbody tr th:only-of-type {\n",
              "        vertical-align: middle;\n",
              "    }\n",
              "\n",
              "    .dataframe tbody tr th {\n",
              "        vertical-align: top;\n",
              "    }\n",
              "\n",
              "    .dataframe thead th {\n",
              "        text-align: right;\n",
              "    }\n",
              "</style>\n",
              "<table border=\"1\" class=\"dataframe\">\n",
              "  <thead>\n",
              "    <tr style=\"text-align: right;\">\n",
              "      <th></th>\n",
              "      <th>Rating</th>\n",
              "      <th>Count</th>\n",
              "    </tr>\n",
              "  </thead>\n",
              "  <tbody>\n",
              "    <tr>\n",
              "      <th>0</th>\n",
              "      <td>2400.0</td>\n",
              "      <td>42</td>\n",
              "    </tr>\n",
              "    <tr>\n",
              "      <th>1</th>\n",
              "      <td>2401.0</td>\n",
              "      <td>38</td>\n",
              "    </tr>\n",
              "    <tr>\n",
              "      <th>2</th>\n",
              "      <td>2402.0</td>\n",
              "      <td>42</td>\n",
              "    </tr>\n",
              "    <tr>\n",
              "      <th>3</th>\n",
              "      <td>2403.0</td>\n",
              "      <td>36</td>\n",
              "    </tr>\n",
              "    <tr>\n",
              "      <th>4</th>\n",
              "      <td>2404.0</td>\n",
              "      <td>27</td>\n",
              "    </tr>\n",
              "    <tr>\n",
              "      <th>5</th>\n",
              "      <td>2405.0</td>\n",
              "      <td>40</td>\n",
              "    </tr>\n",
              "    <tr>\n",
              "      <th>6</th>\n",
              "      <td>2406.0</td>\n",
              "      <td>35</td>\n",
              "    </tr>\n",
              "    <tr>\n",
              "      <th>7</th>\n",
              "      <td>2407.0</td>\n",
              "      <td>25</td>\n",
              "    </tr>\n",
              "    <tr>\n",
              "      <th>8</th>\n",
              "      <td>2408.0</td>\n",
              "      <td>28</td>\n",
              "    </tr>\n",
              "    <tr>\n",
              "      <th>9</th>\n",
              "      <td>2409.0</td>\n",
              "      <td>31</td>\n",
              "    </tr>\n",
              "    <tr>\n",
              "      <th>10</th>\n",
              "      <td>2410.0</td>\n",
              "      <td>29</td>\n",
              "    </tr>\n",
              "    <tr>\n",
              "      <th>11</th>\n",
              "      <td>2411.0</td>\n",
              "      <td>32</td>\n",
              "    </tr>\n",
              "    <tr>\n",
              "      <th>12</th>\n",
              "      <td>2412.0</td>\n",
              "      <td>18</td>\n",
              "    </tr>\n",
              "    <tr>\n",
              "      <th>13</th>\n",
              "      <td>2413.0</td>\n",
              "      <td>26</td>\n",
              "    </tr>\n",
              "    <tr>\n",
              "      <th>14</th>\n",
              "      <td>2414.0</td>\n",
              "      <td>24</td>\n",
              "    </tr>\n",
              "    <tr>\n",
              "      <th>15</th>\n",
              "      <td>2415.0</td>\n",
              "      <td>22</td>\n",
              "    </tr>\n",
              "    <tr>\n",
              "      <th>16</th>\n",
              "      <td>2416.0</td>\n",
              "      <td>22</td>\n",
              "    </tr>\n",
              "    <tr>\n",
              "      <th>17</th>\n",
              "      <td>2417.0</td>\n",
              "      <td>19</td>\n",
              "    </tr>\n",
              "    <tr>\n",
              "      <th>18</th>\n",
              "      <td>2418.0</td>\n",
              "      <td>22</td>\n",
              "    </tr>\n",
              "    <tr>\n",
              "      <th>19</th>\n",
              "      <td>2419.0</td>\n",
              "      <td>13</td>\n",
              "    </tr>\n",
              "    <tr>\n",
              "      <th>20</th>\n",
              "      <td>2420.0</td>\n",
              "      <td>26</td>\n",
              "    </tr>\n",
              "    <tr>\n",
              "      <th>21</th>\n",
              "      <td>2421.0</td>\n",
              "      <td>16</td>\n",
              "    </tr>\n",
              "    <tr>\n",
              "      <th>22</th>\n",
              "      <td>2422.0</td>\n",
              "      <td>14</td>\n",
              "    </tr>\n",
              "    <tr>\n",
              "      <th>23</th>\n",
              "      <td>2423.0</td>\n",
              "      <td>11</td>\n",
              "    </tr>\n",
              "    <tr>\n",
              "      <th>24</th>\n",
              "      <td>2424.0</td>\n",
              "      <td>18</td>\n",
              "    </tr>\n",
              "    <tr>\n",
              "      <th>25</th>\n",
              "      <td>2425.0</td>\n",
              "      <td>12</td>\n",
              "    </tr>\n",
              "    <tr>\n",
              "      <th>26</th>\n",
              "      <td>2426.0</td>\n",
              "      <td>20</td>\n",
              "    </tr>\n",
              "    <tr>\n",
              "      <th>27</th>\n",
              "      <td>2427.0</td>\n",
              "      <td>20</td>\n",
              "    </tr>\n",
              "    <tr>\n",
              "      <th>28</th>\n",
              "      <td>2428.0</td>\n",
              "      <td>11</td>\n",
              "    </tr>\n",
              "    <tr>\n",
              "      <th>29</th>\n",
              "      <td>2429.0</td>\n",
              "      <td>9</td>\n",
              "    </tr>\n",
              "    <tr>\n",
              "      <th>30</th>\n",
              "      <td>2430.0</td>\n",
              "      <td>11</td>\n",
              "    </tr>\n",
              "    <tr>\n",
              "      <th>31</th>\n",
              "      <td>2431.0</td>\n",
              "      <td>9</td>\n",
              "    </tr>\n",
              "    <tr>\n",
              "      <th>32</th>\n",
              "      <td>2432.0</td>\n",
              "      <td>11</td>\n",
              "    </tr>\n",
              "    <tr>\n",
              "      <th>33</th>\n",
              "      <td>2433.0</td>\n",
              "      <td>11</td>\n",
              "    </tr>\n",
              "    <tr>\n",
              "      <th>34</th>\n",
              "      <td>2434.0</td>\n",
              "      <td>20</td>\n",
              "    </tr>\n",
              "    <tr>\n",
              "      <th>35</th>\n",
              "      <td>2435.0</td>\n",
              "      <td>11</td>\n",
              "    </tr>\n",
              "    <tr>\n",
              "      <th>36</th>\n",
              "      <td>2436.0</td>\n",
              "      <td>15</td>\n",
              "    </tr>\n",
              "  </tbody>\n",
              "</table>\n",
              "</div>"
            ],
            "text/plain": [
              "    Rating  Count\n",
              "0   2400.0     42\n",
              "1   2401.0     38\n",
              "2   2402.0     42\n",
              "3   2403.0     36\n",
              "4   2404.0     27\n",
              "5   2405.0     40\n",
              "6   2406.0     35\n",
              "7   2407.0     25\n",
              "8   2408.0     28\n",
              "9   2409.0     31\n",
              "10  2410.0     29\n",
              "11  2411.0     32\n",
              "12  2412.0     18\n",
              "13  2413.0     26\n",
              "14  2414.0     24\n",
              "15  2415.0     22\n",
              "16  2416.0     22\n",
              "17  2417.0     19\n",
              "18  2418.0     22\n",
              "19  2419.0     13\n",
              "20  2420.0     26\n",
              "21  2421.0     16\n",
              "22  2422.0     14\n",
              "23  2423.0     11\n",
              "24  2424.0     18\n",
              "25  2425.0     12\n",
              "26  2426.0     20\n",
              "27  2427.0     20\n",
              "28  2428.0     11\n",
              "29  2429.0      9\n",
              "30  2430.0     11\n",
              "31  2431.0      9\n",
              "32  2432.0     11\n",
              "33  2433.0     11\n",
              "34  2434.0     20\n",
              "35  2435.0     11\n",
              "36  2436.0     15"
            ]
          },
          "metadata": {
            "tags": []
          },
          "execution_count": 19
        }
      ]
    },
    {
      "cell_type": "code",
      "metadata": {
        "id": "XiwVug1hiRSV",
        "cellView": "form",
        "colab": {
          "base_uri": "https://localhost:8080/",
          "height": 561
        },
        "outputId": "a1015157-3bc7-4e07-83a6-39a9705a6565"
      },
      "source": [
        "#@title Distribution of Players Close to Cutoff\n",
        "### Distribution of Players Below Cutoff, 2400 and Above ###\n",
        "\n",
        "df_close_range.plot(kind='box',y='Rating', x='Count', color='black', title='Distribution of Players Close to Cutoff')\n",
        "hero=plt.axhline(horde_rating, color='r', linestyle='dashed', label='Hero')\n",
        "player=plt.axhline(player_rating, color='g', linestyle='-', label='Player')\n",
        "plt.legend(handles=[hero, player])\n",
        "df_close_range.describe()"
      ],
      "execution_count": null,
      "outputs": [
        {
          "output_type": "execute_result",
          "data": {
            "text/html": [
              "<div>\n",
              "<style scoped>\n",
              "    .dataframe tbody tr th:only-of-type {\n",
              "        vertical-align: middle;\n",
              "    }\n",
              "\n",
              "    .dataframe tbody tr th {\n",
              "        vertical-align: top;\n",
              "    }\n",
              "\n",
              "    .dataframe thead th {\n",
              "        text-align: right;\n",
              "    }\n",
              "</style>\n",
              "<table border=\"1\" class=\"dataframe\">\n",
              "  <thead>\n",
              "    <tr style=\"text-align: right;\">\n",
              "      <th></th>\n",
              "      <th>Rating</th>\n",
              "      <th>Count</th>\n",
              "    </tr>\n",
              "  </thead>\n",
              "  <tbody>\n",
              "    <tr>\n",
              "      <th>count</th>\n",
              "      <td>37.000000</td>\n",
              "      <td>37.000000</td>\n",
              "    </tr>\n",
              "    <tr>\n",
              "      <th>mean</th>\n",
              "      <td>2418.000000</td>\n",
              "      <td>22.054054</td>\n",
              "    </tr>\n",
              "    <tr>\n",
              "      <th>std</th>\n",
              "      <td>10.824355</td>\n",
              "      <td>9.899343</td>\n",
              "    </tr>\n",
              "    <tr>\n",
              "      <th>min</th>\n",
              "      <td>2400.000000</td>\n",
              "      <td>9.000000</td>\n",
              "    </tr>\n",
              "    <tr>\n",
              "      <th>25%</th>\n",
              "      <td>2409.000000</td>\n",
              "      <td>13.000000</td>\n",
              "    </tr>\n",
              "    <tr>\n",
              "      <th>50%</th>\n",
              "      <td>2418.000000</td>\n",
              "      <td>20.000000</td>\n",
              "    </tr>\n",
              "    <tr>\n",
              "      <th>75%</th>\n",
              "      <td>2427.000000</td>\n",
              "      <td>28.000000</td>\n",
              "    </tr>\n",
              "    <tr>\n",
              "      <th>max</th>\n",
              "      <td>2436.000000</td>\n",
              "      <td>42.000000</td>\n",
              "    </tr>\n",
              "  </tbody>\n",
              "</table>\n",
              "</div>"
            ],
            "text/plain": [
              "            Rating      Count\n",
              "count    37.000000  37.000000\n",
              "mean   2418.000000  22.054054\n",
              "std      10.824355   9.899343\n",
              "min    2400.000000   9.000000\n",
              "25%    2409.000000  13.000000\n",
              "50%    2418.000000  20.000000\n",
              "75%    2427.000000  28.000000\n",
              "max    2436.000000  42.000000"
            ]
          },
          "metadata": {
            "tags": []
          },
          "execution_count": 20
        },
        {
          "output_type": "display_data",
          "data": {
            "image/png": "[encoded data removed]",
            "text/plain": [
              "<Figure size 432x288 with 1 Axes>"
            ]
          },
          "metadata": {
            "tags": [],
            "needs_background": "light"
          }
        }
      ]
    },
    {
      "cell_type": "code",
      "metadata": {
        "id": "YAEHhRtTiRSV",
        "cellView": "form",
        "colab": {
          "base_uri": "https://localhost:8080/"
        },
        "outputId": "24f2f940-dd5f-46aa-b984-d16d822a9909"
      },
      "source": [
        "#@title Players at 2400\n",
        "# Players at Rating 2400 ###\n",
        "\n",
        "df_2400=df_rr.loc[df_rr['Rating']==2400]\n",
        "players_2400=df_2400.Rating.count()\n",
        "\n",
        "print('Players at 2400: ' + str(players_2400))"
      ],
      "execution_count": null,
      "outputs": [
        {
          "output_type": "stream",
          "text": [
            "Players at 2400: 42\n"
          ],
          "name": "stdout"
        }
      ]
    },
    {
      "cell_type": "code",
      "metadata": {
        "scrolled": true,
        "id": "oRI16rPTiRSV",
        "cellView": "form",
        "colab": {
          "base_uri": "https://localhost:8080/",
          "height": 419
        },
        "outputId": "a5b3ca98-ca4e-4107-e3a9-3d5a822aeaba"
      },
      "source": [
        "#@title Hero Rating Frequeny Table\n",
        "### Hero Rating Frequency ###\n",
        "\n",
        "df_top_divide=df_cutoff.groupby('Rating').count()\n",
        "df_top_divide.reset_index(inplace=True)\n",
        "df_top_divide"
      ],
      "execution_count": null,
      "outputs": [
        {
          "output_type": "execute_result",
          "data": {
            "text/html": [
              "<div>\n",
              "<style scoped>\n",
              "    .dataframe tbody tr th:only-of-type {\n",
              "        vertical-align: middle;\n",
              "    }\n",
              "\n",
              "    .dataframe tbody tr th {\n",
              "        vertical-align: top;\n",
              "    }\n",
              "\n",
              "    .dataframe thead th {\n",
              "        text-align: right;\n",
              "    }\n",
              "</style>\n",
              "<table border=\"1\" class=\"dataframe\">\n",
              "  <thead>\n",
              "    <tr style=\"text-align: right;\">\n",
              "      <th></th>\n",
              "      <th>Rating</th>\n",
              "      <th>Rank</th>\n",
              "    </tr>\n",
              "  </thead>\n",
              "  <tbody>\n",
              "    <tr>\n",
              "      <th>0</th>\n",
              "      <td>2437.0</td>\n",
              "      <td>12</td>\n",
              "    </tr>\n",
              "    <tr>\n",
              "      <th>1</th>\n",
              "      <td>2438.0</td>\n",
              "      <td>15</td>\n",
              "    </tr>\n",
              "    <tr>\n",
              "      <th>2</th>\n",
              "      <td>2439.0</td>\n",
              "      <td>16</td>\n",
              "    </tr>\n",
              "    <tr>\n",
              "      <th>3</th>\n",
              "      <td>2440.0</td>\n",
              "      <td>11</td>\n",
              "    </tr>\n",
              "    <tr>\n",
              "      <th>4</th>\n",
              "      <td>2441.0</td>\n",
              "      <td>13</td>\n",
              "    </tr>\n",
              "    <tr>\n",
              "      <th>...</th>\n",
              "      <td>...</td>\n",
              "      <td>...</td>\n",
              "    </tr>\n",
              "    <tr>\n",
              "      <th>347</th>\n",
              "      <td>3008.0</td>\n",
              "      <td>1</td>\n",
              "    </tr>\n",
              "    <tr>\n",
              "      <th>348</th>\n",
              "      <td>3019.0</td>\n",
              "      <td>1</td>\n",
              "    </tr>\n",
              "    <tr>\n",
              "      <th>349</th>\n",
              "      <td>3026.0</td>\n",
              "      <td>1</td>\n",
              "    </tr>\n",
              "    <tr>\n",
              "      <th>350</th>\n",
              "      <td>3036.0</td>\n",
              "      <td>2</td>\n",
              "    </tr>\n",
              "    <tr>\n",
              "      <th>351</th>\n",
              "      <td>3064.0</td>\n",
              "      <td>1</td>\n",
              "    </tr>\n",
              "  </tbody>\n",
              "</table>\n",
              "<p>352 rows × 2 columns</p>\n",
              "</div>"
            ],
            "text/plain": [
              "     Rating  Rank\n",
              "0    2437.0    12\n",
              "1    2438.0    15\n",
              "2    2439.0    16\n",
              "3    2440.0    11\n",
              "4    2441.0    13\n",
              "..      ...   ...\n",
              "347  3008.0     1\n",
              "348  3019.0     1\n",
              "349  3026.0     1\n",
              "350  3036.0     2\n",
              "351  3064.0     1\n",
              "\n",
              "[352 rows x 2 columns]"
            ]
          },
          "metadata": {
            "tags": []
          },
          "execution_count": 22
        }
      ]
    },
    {
      "cell_type": "code",
      "metadata": {
        "id": "Pue7h_OqiRSW",
        "cellView": "form",
        "colab": {
          "base_uri": "https://localhost:8080/",
          "height": 561
        },
        "outputId": "538f60d1-aadd-4049-878a-17ec5bc8de0e"
      },
      "source": [
        "#@title Distribution of Hero Ratings Table & Graph\n",
        "### Distribution of Hero Ratings ### \n",
        "\n",
        "df_top_divide.plot(kind='box' ,y='Rating', color='black', title='Distribution of Ratings within Cutoff')\n",
        "hero=plt.axhline(horde_rating, color='r', linestyle='dashed', label='Hero')\n",
        "player=plt.axhline(player_rating, color='g', linestyle='-', label='Player')\n",
        "plt.legend(handles=[hero, player])\n",
        "df_top_divide.describe()"
      ],
      "execution_count": null,
      "outputs": [
        {
          "output_type": "execute_result",
          "data": {
            "text/html": [
              "<div>\n",
              "<style scoped>\n",
              "    .dataframe tbody tr th:only-of-type {\n",
              "        vertical-align: middle;\n",
              "    }\n",
              "\n",
              "    .dataframe tbody tr th {\n",
              "        vertical-align: top;\n",
              "    }\n",
              "\n",
              "    .dataframe thead th {\n",
              "        text-align: right;\n",
              "    }\n",
              "</style>\n",
              "<table border=\"1\" class=\"dataframe\">\n",
              "  <thead>\n",
              "    <tr style=\"text-align: right;\">\n",
              "      <th></th>\n",
              "      <th>Rating</th>\n",
              "      <th>Rank</th>\n",
              "    </tr>\n",
              "  </thead>\n",
              "  <tbody>\n",
              "    <tr>\n",
              "      <th>count</th>\n",
              "      <td>352.000000</td>\n",
              "      <td>352.000000</td>\n",
              "    </tr>\n",
              "    <tr>\n",
              "      <th>mean</th>\n",
              "      <td>2641.420455</td>\n",
              "      <td>3.821023</td>\n",
              "    </tr>\n",
              "    <tr>\n",
              "      <th>std</th>\n",
              "      <td>145.172378</td>\n",
              "      <td>3.154938</td>\n",
              "    </tr>\n",
              "    <tr>\n",
              "      <th>min</th>\n",
              "      <td>2437.000000</td>\n",
              "      <td>1.000000</td>\n",
              "    </tr>\n",
              "    <tr>\n",
              "      <th>25%</th>\n",
              "      <td>2524.750000</td>\n",
              "      <td>1.000000</td>\n",
              "    </tr>\n",
              "    <tr>\n",
              "      <th>50%</th>\n",
              "      <td>2619.500000</td>\n",
              "      <td>3.000000</td>\n",
              "    </tr>\n",
              "    <tr>\n",
              "      <th>75%</th>\n",
              "      <td>2726.500000</td>\n",
              "      <td>5.000000</td>\n",
              "    </tr>\n",
              "    <tr>\n",
              "      <th>max</th>\n",
              "      <td>3064.000000</td>\n",
              "      <td>16.000000</td>\n",
              "    </tr>\n",
              "  </tbody>\n",
              "</table>\n",
              "</div>"
            ],
            "text/plain": [
              "            Rating        Rank\n",
              "count   352.000000  352.000000\n",
              "mean   2641.420455    3.821023\n",
              "std     145.172378    3.154938\n",
              "min    2437.000000    1.000000\n",
              "25%    2524.750000    1.000000\n",
              "50%    2619.500000    3.000000\n",
              "75%    2726.500000    5.000000\n",
              "max    3064.000000   16.000000"
            ]
          },
          "metadata": {
            "tags": []
          },
          "execution_count": 23
        },
        {
          "output_type": "display_data",
          "data": {
            "image/png": "[encoded data removed]",
            "text/plain": [
              "<Figure size 432x288 with 1 Axes>"
            ]
          },
          "metadata": {
            "tags": [],
            "needs_background": "light"
          }
        }
      ]
    },
    {
      "cell_type": "code",
      "metadata": {
        "id": "V9HPoaSTiRSW",
        "cellView": "form",
        "colab": {
          "base_uri": "https://localhost:8080/",
          "height": 680
        },
        "outputId": "80ab6454-c571-4150-d699-39f4d4ea161a"
      },
      "source": [
        "#@title Distribution of Leaderboard Ratings & Player Placement\n",
        "### Distribution of Leaderboard Ratings ###\n",
        "\n",
        "df_rr.plot(kind='box', x='Rank',title='Distribution of All Leaderboard Ratings', color='black')\n",
        "hero=plt.axhline(horde_rating, color='r', linestyle='dashed', label='Hero')\n",
        "player=plt.axhline(player_rating, color='g', linestyle='-', label='Player')\n",
        "plt.legend(handles=[hero, player])\n",
        "\n",
        "### Players you out rank within cutoff ###\n",
        "df_bottoms=df_top_divide.loc[df_top_divide['Rating']<player_rating]\n",
        "bottom_ranks=df_bottoms.Rank.sum()\n",
        "\n",
        "### Leaderboard Players You Out Rank ###\n",
        "df_outranked=df_rr.loc[df_rr['Rating']<player_rating]\n",
        "df_bottom_divide=df_outranked.groupby('Rating').count()\n",
        "df_bottom_divide.reset_index(inplace=True)\n",
        "player_sum_below=df_bottom_divide.Rank.sum()\n",
        "\n",
        "### Leaderboard Players Who Out Rank You ###\n",
        "df_outrank=df_rr.loc[df_rr['Rating']>player_rating]\n",
        "df_up_divide=df_outrank.groupby('Rating').count()\n",
        "df_up_divide.reset_index(inplace=True)\n",
        "player_sum_top=df_up_divide.Rank.sum()\n",
        "\n",
        "### Players within Hero (top 0.5%) ###\n",
        "heroes=len(df_cutoff)\n",
        "pool=int(heroes*100/0.5)\n",
        "\n",
        "print('Players in Hero: ' + str(heroes))\n",
        "print('Total Players: ' + str(pool))\n",
        "print(' ')\n",
        "print('Leaderboard Players Above You: ' + str(player_sum_top))\n",
        "print(' ')\n",
        "print('Leaderboard Players Below You: ' + str(player_sum_below))\n",
        "print('Hero Ranked Players Below You: ' + str(bottom_ranks))\n",
        "df_rr.describe()"
      ],
      "execution_count": null,
      "outputs": [
        {
          "output_type": "stream",
          "text": [
            "Players in Hero: 1345\n",
            "Total Players: 269000\n",
            " \n",
            "Leaderboard Players Above You: 840\n",
            " \n",
            "Leaderboard Players Below You: 4147\n",
            "Hero Ranked Players Below You: 500\n"
          ],
          "name": "stdout"
        },
        {
          "output_type": "execute_result",
          "data": {
            "text/html": [
              "<div>\n",
              "<style scoped>\n",
              "    .dataframe tbody tr th:only-of-type {\n",
              "        vertical-align: middle;\n",
              "    }\n",
              "\n",
              "    .dataframe tbody tr th {\n",
              "        vertical-align: top;\n",
              "    }\n",
              "\n",
              "    .dataframe thead th {\n",
              "        text-align: right;\n",
              "    }\n",
              "</style>\n",
              "<table border=\"1\" class=\"dataframe\">\n",
              "  <thead>\n",
              "    <tr style=\"text-align: right;\">\n",
              "      <th></th>\n",
              "      <th>Rank</th>\n",
              "      <th>Rating</th>\n",
              "    </tr>\n",
              "  </thead>\n",
              "  <tbody>\n",
              "    <tr>\n",
              "      <th>count</th>\n",
              "      <td>4992.000000</td>\n",
              "      <td>4992.000000</td>\n",
              "    </tr>\n",
              "    <tr>\n",
              "      <th>mean</th>\n",
              "      <td>2502.636018</td>\n",
              "      <td>2388.267829</td>\n",
              "    </tr>\n",
              "    <tr>\n",
              "      <th>std</th>\n",
              "      <td>1447.374311</td>\n",
              "      <td>132.249261</td>\n",
              "    </tr>\n",
              "    <tr>\n",
              "      <th>min</th>\n",
              "      <td>1.000000</td>\n",
              "      <td>2227.000000</td>\n",
              "    </tr>\n",
              "    <tr>\n",
              "      <th>25%</th>\n",
              "      <td>1254.000000</td>\n",
              "      <td>2282.000000</td>\n",
              "    </tr>\n",
              "    <tr>\n",
              "      <th>50%</th>\n",
              "      <td>2504.000000</td>\n",
              "      <td>2371.000000</td>\n",
              "    </tr>\n",
              "    <tr>\n",
              "      <th>75%</th>\n",
              "      <td>3766.000000</td>\n",
              "      <td>2444.000000</td>\n",
              "    </tr>\n",
              "    <tr>\n",
              "      <th>max</th>\n",
              "      <td>4997.000000</td>\n",
              "      <td>3064.000000</td>\n",
              "    </tr>\n",
              "  </tbody>\n",
              "</table>\n",
              "</div>"
            ],
            "text/plain": [
              "              Rank       Rating\n",
              "count  4992.000000  4992.000000\n",
              "mean   2502.636018  2388.267829\n",
              "std    1447.374311   132.249261\n",
              "min       1.000000  2227.000000\n",
              "25%    1254.000000  2282.000000\n",
              "50%    2504.000000  2371.000000\n",
              "75%    3766.000000  2444.000000\n",
              "max    4997.000000  3064.000000"
            ]
          },
          "metadata": {
            "tags": []
          },
          "execution_count": 24
        },
        {
          "output_type": "display_data",
          "data": {
            "image/png": "[encoded data removed]",
            "text/plain": [
              "<Figure size 432x288 with 1 Axes>"
            ]
          },
          "metadata": {
            "tags": [],
            "needs_background": "light"
          }
        }
      ]
    },
    {
      "cell_type": "code",
      "metadata": {
        "id": "OUpyCZIGiRSW",
        "cellView": "form",
        "colab": {
          "base_uri": "https://localhost:8080/",
          "height": 576
        },
        "outputId": "aa1a9b12-d46a-46c7-b97d-f1300a6d2b23"
      },
      "source": [
        "#@title Archived Hero Data from Previous Season\n",
        "### Archived Hero Data from Previous Season ###\n",
        "\n",
        "# Manually created hero season rating lists #\n",
        "\n",
        "horde_season=['SL S1',\n",
        "            'BfA S4','BfA S3','BfA S2','BfA S1',\n",
        "            'Legion S7','Legion S6','Legion S5','Legion S4','Legion S4','Legion S2','Legion S1',\n",
        "            'Warlords S3','Warlords S2','Warlords S1',\n",
        "            'Season 15','Season 14',] \n",
        "horde_ratings=[horde_rating,\n",
        "            2643,2392,2397,2681,\n",
        "            2543,2530,2428,2449,2402,2500,2416,\n",
        "            2304,2265,2155,\n",
        "            2367,2200,] \n",
        "\n",
        "horde_season.reverse()\n",
        "horde_ratings.reverse()\n",
        "\n",
        "horde_data={'Season': horde_season, 'Rating': horde_ratings}\n",
        "\n",
        "#print(horde_data)\n",
        "df_horde=pd.DataFrame(horde_data)\n",
        "df_horde"
      ],
      "execution_count": null,
      "outputs": [
        {
          "output_type": "execute_result",
          "data": {
            "text/html": [
              "<div>\n",
              "<style scoped>\n",
              "    .dataframe tbody tr th:only-of-type {\n",
              "        vertical-align: middle;\n",
              "    }\n",
              "\n",
              "    .dataframe tbody tr th {\n",
              "        vertical-align: top;\n",
              "    }\n",
              "\n",
              "    .dataframe thead th {\n",
              "        text-align: right;\n",
              "    }\n",
              "</style>\n",
              "<table border=\"1\" class=\"dataframe\">\n",
              "  <thead>\n",
              "    <tr style=\"text-align: right;\">\n",
              "      <th></th>\n",
              "      <th>Season</th>\n",
              "      <th>Rating</th>\n",
              "    </tr>\n",
              "  </thead>\n",
              "  <tbody>\n",
              "    <tr>\n",
              "      <th>0</th>\n",
              "      <td>Season 14</td>\n",
              "      <td>2200</td>\n",
              "    </tr>\n",
              "    <tr>\n",
              "      <th>1</th>\n",
              "      <td>Season 15</td>\n",
              "      <td>2367</td>\n",
              "    </tr>\n",
              "    <tr>\n",
              "      <th>2</th>\n",
              "      <td>Warlords S1</td>\n",
              "      <td>2155</td>\n",
              "    </tr>\n",
              "    <tr>\n",
              "      <th>3</th>\n",
              "      <td>Warlords S2</td>\n",
              "      <td>2265</td>\n",
              "    </tr>\n",
              "    <tr>\n",
              "      <th>4</th>\n",
              "      <td>Warlords S3</td>\n",
              "      <td>2304</td>\n",
              "    </tr>\n",
              "    <tr>\n",
              "      <th>5</th>\n",
              "      <td>Legion S1</td>\n",
              "      <td>2416</td>\n",
              "    </tr>\n",
              "    <tr>\n",
              "      <th>6</th>\n",
              "      <td>Legion S2</td>\n",
              "      <td>2500</td>\n",
              "    </tr>\n",
              "    <tr>\n",
              "      <th>7</th>\n",
              "      <td>Legion S4</td>\n",
              "      <td>2402</td>\n",
              "    </tr>\n",
              "    <tr>\n",
              "      <th>8</th>\n",
              "      <td>Legion S4</td>\n",
              "      <td>2449</td>\n",
              "    </tr>\n",
              "    <tr>\n",
              "      <th>9</th>\n",
              "      <td>Legion S5</td>\n",
              "      <td>2428</td>\n",
              "    </tr>\n",
              "    <tr>\n",
              "      <th>10</th>\n",
              "      <td>Legion S6</td>\n",
              "      <td>2530</td>\n",
              "    </tr>\n",
              "    <tr>\n",
              "      <th>11</th>\n",
              "      <td>Legion S7</td>\n",
              "      <td>2543</td>\n",
              "    </tr>\n",
              "    <tr>\n",
              "      <th>12</th>\n",
              "      <td>BfA S1</td>\n",
              "      <td>2681</td>\n",
              "    </tr>\n",
              "    <tr>\n",
              "      <th>13</th>\n",
              "      <td>BfA S2</td>\n",
              "      <td>2397</td>\n",
              "    </tr>\n",
              "    <tr>\n",
              "      <th>14</th>\n",
              "      <td>BfA S3</td>\n",
              "      <td>2392</td>\n",
              "    </tr>\n",
              "    <tr>\n",
              "      <th>15</th>\n",
              "      <td>BfA S4</td>\n",
              "      <td>2643</td>\n",
              "    </tr>\n",
              "    <tr>\n",
              "      <th>16</th>\n",
              "      <td>SL S1</td>\n",
              "      <td>2437</td>\n",
              "    </tr>\n",
              "  </tbody>\n",
              "</table>\n",
              "</div>"
            ],
            "text/plain": [
              "         Season  Rating\n",
              "0     Season 14    2200\n",
              "1     Season 15    2367\n",
              "2   Warlords S1    2155\n",
              "3   Warlords S2    2265\n",
              "4   Warlords S3    2304\n",
              "5     Legion S1    2416\n",
              "6     Legion S2    2500\n",
              "7     Legion S4    2402\n",
              "8     Legion S4    2449\n",
              "9     Legion S5    2428\n",
              "10    Legion S6    2530\n",
              "11    Legion S7    2543\n",
              "12       BfA S1    2681\n",
              "13       BfA S2    2397\n",
              "14       BfA S3    2392\n",
              "15       BfA S4    2643\n",
              "16        SL S1    2437"
            ]
          },
          "metadata": {
            "tags": []
          },
          "execution_count": 25
        }
      ]
    },
    {
      "cell_type": "code",
      "metadata": {
        "id": "GQiydPLiiRSX",
        "cellView": "form",
        "colab": {
          "base_uri": "https://localhost:8080/",
          "height": 379
        },
        "outputId": "7553bffb-dc68-46f0-feeb-529cc391370a"
      },
      "source": [
        "#@title Season Ratings Graph and Linear Fit\n",
        "### Season Ratings Scatter plot & linear fit ###\n",
        "\n",
        "y1=np.array(df_horde['Rating'])\n",
        "x1=df_horde.index.values\n",
        "x1,y1\n",
        "m, b = np.polyfit(x1, y1, 1)\n",
        "\n",
        "\n",
        "df_horde.plot(kind='scatter',x='Season', y='Rating', color='black',title='Previous Season Hero Ratings')\n",
        "hero=plt.axhline(horde_rating, color='r', linestyle='dashed', label='Hero')\n",
        "player=plt.axhline(player_rating, color='g', linestyle='-', label='Player')\n",
        "plt.plot(x1, m*x1 + b,)\n",
        "plt.legend(handles=[hero, player])\n",
        "plt.xticks(rotation = 90)"
      ],
      "execution_count": null,
      "outputs": [
        {
          "output_type": "execute_result",
          "data": {
            "text/plain": [
              "([0, 1, 2, 3, 4, 5, 6, 7, 8, 9, 10, 11, 12, 13, 14, 15],\n",
              " <a list of 16 Text major ticklabel objects>)"
            ]
          },
          "metadata": {
            "tags": []
          },
          "execution_count": 26
        },
        {
          "output_type": "display_data",
          "data": {
            "image/png": "[encoded data removed]",
            "text/plain": [
              "<Figure size 432x288 with 1 Axes>"
            ]
          },
          "metadata": {
            "tags": [],
            "needs_background": "light"
          }
        }
      ]
    },
    {
      "cell_type": "code",
      "metadata": {
        "id": "udht-1YFiRSX",
        "cellView": "form",
        "colab": {
          "base_uri": "https://localhost:8080/",
          "height": 561
        },
        "outputId": "7bbe0330-1ab3-4a88-d9fc-9bba82602746"
      },
      "source": [
        "#@title Season Hero Ratings Distribution Graph\n",
        "### Season Hero Ratings Distribution ###\n",
        "\n",
        "df_horde.plot(kind='box', color='black',title='Season Hero Ratings Distribution')\n",
        "hero=plt.axhline(horde_rating, color='r', linestyle='dashed', label='Hero')\n",
        "player=plt.axhline(player_rating, color='g', linestyle='-', label='Player')\n",
        "plt.legend(handles=[hero, player])\n",
        "df_horde.describe()"
      ],
      "execution_count": null,
      "outputs": [
        {
          "output_type": "execute_result",
          "data": {
            "text/html": [
              "<div>\n",
              "<style scoped>\n",
              "    .dataframe tbody tr th:only-of-type {\n",
              "        vertical-align: middle;\n",
              "    }\n",
              "\n",
              "    .dataframe tbody tr th {\n",
              "        vertical-align: top;\n",
              "    }\n",
              "\n",
              "    .dataframe thead th {\n",
              "        text-align: right;\n",
              "    }\n",
              "</style>\n",
              "<table border=\"1\" class=\"dataframe\">\n",
              "  <thead>\n",
              "    <tr style=\"text-align: right;\">\n",
              "      <th></th>\n",
              "      <th>Rating</th>\n",
              "    </tr>\n",
              "  </thead>\n",
              "  <tbody>\n",
              "    <tr>\n",
              "      <th>count</th>\n",
              "      <td>17.000000</td>\n",
              "    </tr>\n",
              "    <tr>\n",
              "      <th>mean</th>\n",
              "      <td>2418.176471</td>\n",
              "    </tr>\n",
              "    <tr>\n",
              "      <th>std</th>\n",
              "      <td>139.907217</td>\n",
              "    </tr>\n",
              "    <tr>\n",
              "      <th>min</th>\n",
              "      <td>2155.000000</td>\n",
              "    </tr>\n",
              "    <tr>\n",
              "      <th>25%</th>\n",
              "      <td>2367.000000</td>\n",
              "    </tr>\n",
              "    <tr>\n",
              "      <th>50%</th>\n",
              "      <td>2416.000000</td>\n",
              "    </tr>\n",
              "    <tr>\n",
              "      <th>75%</th>\n",
              "      <td>2500.000000</td>\n",
              "    </tr>\n",
              "    <tr>\n",
              "      <th>max</th>\n",
              "      <td>2681.000000</td>\n",
              "    </tr>\n",
              "  </tbody>\n",
              "</table>\n",
              "</div>"
            ],
            "text/plain": [
              "            Rating\n",
              "count    17.000000\n",
              "mean   2418.176471\n",
              "std     139.907217\n",
              "min    2155.000000\n",
              "25%    2367.000000\n",
              "50%    2416.000000\n",
              "75%    2500.000000\n",
              "max    2681.000000"
            ]
          },
          "metadata": {
            "tags": []
          },
          "execution_count": 27
        },
        {
          "output_type": "display_data",
          "data": {
            "image/png": "[encoded data removed]",
            "text/plain": [
              "<Figure size 432x288 with 1 Axes>"
            ]
          },
          "metadata": {
            "tags": [],
            "needs_background": "light"
          }
        }
      ]
    },
    {
      "cell_type": "code",
      "metadata": {
        "scrolled": true,
        "id": "tLut6-CJiRSX",
        "cellView": "form",
        "colab": {
          "base_uri": "https://localhost:8080/",
          "height": 656
        },
        "outputId": "ab905172-af1b-4c25-f449-45579a07e2c5"
      },
      "source": [
        "#@title Predicting Season End Hero Rating Cutoff<br><i>Ploynomial Fits</i>\n",
        "### Predicting Season End Hero Rating Cutoff ###\n",
        "\n",
        "s16_predict=[]\n",
        "fitcoed=[]\n",
        "df_horde.plot(kind='scatter',x='Season', y='Rating', color='black', title= 'Ploynomial Fits of Hero Ratings')\n",
        "\n",
        "for i in range(9):\n",
        "\n",
        "    coefficients = np.polyfit(x1, y1, i+1)\n",
        "    poly = np.poly1d(coefficients)\n",
        "\n",
        "    new_x = np.linspace(x1[0], x1[-1])\n",
        "    new_y = poly(new_x)\n",
        "    plt.plot(x1, y1, \"o\", new_x, new_y, )\n",
        "    plt.legend(fitcoed)\n",
        "    plt.xticks(rotation = 90)\n",
        "    predict=poly(16)\n",
        "    s16_predict.append(predict)\n",
        "    fitcoed.append(i+1)\n",
        "    \n",
        "horde_predict={'Fit': fitcoed , 'Rating': s16_predict}\n",
        "df_horde_predict=pd.DataFrame(horde_predict)\n",
        "df_horde_predict"
      ],
      "execution_count": null,
      "outputs": [
        {
          "output_type": "execute_result",
          "data": {
            "text/html": [
              "<div>\n",
              "<style scoped>\n",
              "    .dataframe tbody tr th:only-of-type {\n",
              "        vertical-align: middle;\n",
              "    }\n",
              "\n",
              "    .dataframe tbody tr th {\n",
              "        vertical-align: top;\n",
              "    }\n",
              "\n",
              "    .dataframe thead th {\n",
              "        text-align: right;\n",
              "    }\n",
              "</style>\n",
              "<table border=\"1\" class=\"dataframe\">\n",
              "  <thead>\n",
              "    <tr style=\"text-align: right;\">\n",
              "      <th></th>\n",
              "      <th>Fit</th>\n",
              "      <th>Rating</th>\n",
              "    </tr>\n",
              "  </thead>\n",
              "  <tbody>\n",
              "    <tr>\n",
              "      <th>0</th>\n",
              "      <td>1</td>\n",
              "      <td>2572.784314</td>\n",
              "    </tr>\n",
              "    <tr>\n",
              "      <th>1</th>\n",
              "      <td>2</td>\n",
              "      <td>2496.545924</td>\n",
              "    </tr>\n",
              "    <tr>\n",
              "      <th>2</th>\n",
              "      <td>3</td>\n",
              "      <td>2463.402477</td>\n",
              "    </tr>\n",
              "    <tr>\n",
              "      <th>3</th>\n",
              "      <td>4</td>\n",
              "      <td>2481.142415</td>\n",
              "    </tr>\n",
              "    <tr>\n",
              "      <th>4</th>\n",
              "      <td>5</td>\n",
              "      <td>2478.994840</td>\n",
              "    </tr>\n",
              "    <tr>\n",
              "      <th>5</th>\n",
              "      <td>6</td>\n",
              "      <td>2472.472966</td>\n",
              "    </tr>\n",
              "    <tr>\n",
              "      <th>6</th>\n",
              "      <td>7</td>\n",
              "      <td>2476.646924</td>\n",
              "    </tr>\n",
              "    <tr>\n",
              "      <th>7</th>\n",
              "      <td>8</td>\n",
              "      <td>2445.056535</td>\n",
              "    </tr>\n",
              "    <tr>\n",
              "      <th>8</th>\n",
              "      <td>9</td>\n",
              "      <td>2439.118428</td>\n",
              "    </tr>\n",
              "  </tbody>\n",
              "</table>\n",
              "</div>"
            ],
            "text/plain": [
              "   Fit       Rating\n",
              "0    1  2572.784314\n",
              "1    2  2496.545924\n",
              "2    3  2463.402477\n",
              "3    4  2481.142415\n",
              "4    5  2478.994840\n",
              "5    6  2472.472966\n",
              "6    7  2476.646924\n",
              "7    8  2445.056535\n",
              "8    9  2439.118428"
            ]
          },
          "metadata": {
            "tags": []
          },
          "execution_count": 28
        },
        {
          "output_type": "display_data",
          "data": {
            "image/png": "[encoded data removed]",
            "text/plain": [
              "<Figure size 432x288 with 1 Axes>"
            ]
          },
          "metadata": {
            "tags": [],
            "needs_background": "light"
          }
        }
      ]
    },
    {
      "cell_type": "code",
      "metadata": {
        "scrolled": true,
        "id": "UAOjLf7oiRSX",
        "cellView": "form",
        "colab": {
          "base_uri": "https://localhost:8080/",
          "height": 1000
        },
        "outputId": "63a619d8-a1a8-4905-9f0c-4632da593a6c"
      },
      "source": [
        "#@title Power Polynomial Fit Split Projectection <br/><i>Projections and Graphs</i>\n",
        "### Power Polynomial Fit Split Projectection ###\n",
        "\n",
        "### All Powers Polynomial Fit Season End Hero Projection ###\n",
        "\n",
        "df_horde_predict.describe()\n",
        "df_horde_predict.plot(kind='scatter',x='Fit', y='Rating', title='All Powers Polynomial Fit Current Season Hero Projection')\n",
        "hero=plt.axhline(horde_rating, color='r', linestyle='dashed', label='Hero')\n",
        "player=plt.axhline(player_rating, color='g', linestyle='-', label='Player')\n",
        "plt.legend(handles=[hero, player])\n",
        "\n",
        "print('All Powers Projected Season End Hero Rating: ' + str(int(df_horde_predict.Rating.mean())))\n",
        "print('Standard Deviation: ' + str(int(df_horde_predict.Rating.std())))\n",
        "print(' ')\n",
        "\n",
        "### Odd Powers Polynomial Fit Season End Hero Projection ###\n",
        "\n",
        "df_hp_odd_poly=df_horde_predict.drop([1,3,5,7])\n",
        "df_hp_even_poly=df_horde_predict.drop([0,2,4,6,8])\n",
        "\n",
        "df_hp_odd_poly.plot(kind='scatter',x='Fit', y='Rating', title='Odd Power Polynomial Fit Current Season Hero Projection')\n",
        "hero=plt.axhline(horde_rating, color='r', linestyle='dashed', label='Hero')\n",
        "player=plt.axhline(player_rating, color='g', linestyle='-', label='Player')\n",
        "plt.legend(handles=[hero, player])\n",
        "df_hp_odd_poly.describe()\n",
        "print('Odd Power Projected Season End Hero Rating: ' + str(int(df_hp_odd_poly.Rating.mean())))\n",
        "print('Standard Deviation: ' + str(int(df_hp_odd_poly.Rating.std())))\n",
        "print(' ')\n",
        "\n",
        "### Even Powers Polynomial Fit Season End Hero Projection ###\n",
        "\n",
        "df_hp_even_poly.plot(kind='scatter',x='Fit', y='Rating', title='Even Power Polynomial Fit Current Season Hero Projection')\n",
        "hero=plt.axhline(horde_rating, color='r', linestyle='dashed', label='Hero')\n",
        "player=plt.axhline(player_rating, color='g', linestyle='-', label='Player')\n",
        "plt.legend(handles=[hero, player])\n",
        "df_hp_even_poly.describe()\n",
        "print('Even Power Projected Season End Hero Rating: ' + str(int(df_hp_even_poly.Rating.mean())))\n",
        "print('Standard Deviation: ' + str(int(df_hp_even_poly.Rating.std())))\n",
        "print(' ')\n",
        "\n",
        "### selecting best fit by smallest STD ###\n",
        "\n",
        "best_mean=[int(df_horde_predict.Rating.mean()),int(df_hp_odd_poly.Rating.mean()),int(df_hp_even_poly.Rating.mean())]\n",
        "\n",
        "best_std=[int(df_horde_predict.Rating.std()),int(df_hp_odd_poly.Rating.std()),int(df_hp_even_poly.Rating.std())]\n",
        "\n",
        "poly_fits=['All','Odd','Even']\n",
        "\n",
        "best_fit_table={'MeanRating': best_mean, 'STD': best_std, 'Fit': poly_fits}\n",
        "\n",
        "df_best_fit=pd.DataFrame(best_fit_table)\n",
        "df_best_fit.sort_values('STD', inplace=True)\n",
        "df_best_fit.reset_index(inplace=True)\n",
        "df_best_fit.drop('index', axis=1, inplace=True)\n",
        "df_best_fit\n",
        "\n",
        "print('Best Prediction for Season End Hero of the Horde Cutoff: ' + str(df_best_fit.MeanRating[0]) + ' (' + str(df_best_fit.Fit[0]) + ' Ploynomial Mean)')\n",
        "print(' ')"
      ],
      "execution_count": null,
      "outputs": [
        {
          "output_type": "stream",
          "text": [
            "All Powers Projected Season End Hero Rating: 2480\n",
            "Standard Deviation: 38\n",
            " \n",
            "Odd Power Projected Season End Hero Rating: 2486\n",
            "Standard Deviation: 50\n",
            " \n",
            "Even Power Projected Season End Hero Rating: 2473\n",
            "Standard Deviation: 21\n",
            " \n",
            "Best Prediction for Season End Hero of the Horde Cutoff: 2473 (Even Ploynomial Mean)\n",
            " \n"
          ],
          "name": "stdout"
        },
        {
          "output_type": "display_data",
          "data": {
            "image/png": "[encoded data removed]",
            "text/plain": [
              "<Figure size 432x288 with 1 Axes>"
            ]
          },
          "metadata": {
            "tags": [],
            "needs_background": "light"
          }
        },
        {
          "output_type": "display_data",
          "data": {
            "image/png": "[encoded data removed]",
            "text/plain": [
              "<Figure size 432x288 with 1 Axes>"
            ]
          },
          "metadata": {
            "tags": [],
            "needs_background": "light"
          }
        },
        {
          "output_type": "display_data",
          "data": {
            "image/png": "[encoded data removed]",
            "text/plain": [
              "<Figure size 432x288 with 1 Axes>"
            ]
          },
          "metadata": {
            "tags": [],
            "needs_background": "light"
          }
        }
      ]
    }
  ]
}