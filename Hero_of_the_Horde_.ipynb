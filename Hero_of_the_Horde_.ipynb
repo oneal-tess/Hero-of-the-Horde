{
  "nbformat": 4,
  "nbformat_minor": 0,
  "metadata": {
    "kernelspec": {
      "display_name": "Python 3.7",
      "language": "python",
      "name": "python3"
    },
    "language_info": {
      "codemirror_mode": {
        "name": "ipython",
        "version": 3
      },
      "file_extension": ".py",
      "mimetype": "text/x-python",
      "name": "python",
      "nbconvert_exporter": "python",
      "pygments_lexer": "ipython3",
      "version": "3.7.10"
    },
    "colab": {
      "name": "Hero of the Horde .ipynb",
      "provenance": [],
      "collapsed_sections": [],
      "include_colab_link": true
    }
  },
  "cells": [
    {
      "cell_type": "markdown",
      "metadata": {
        "id": "view-in-github",
        "colab_type": "text"
      },
      "source": [
        "<a href=\"https://colab.research.google.com/github/oneal-tess/Hero-of-the-Horde/blob/master/Hero_of_the_Horde_.ipynb\" target=\"_parent\"><img src=\"https://colab.research.google.com/assets/colab-badge.svg\" alt=\"Open In Colab\"/></a>"
      ]
    },
    {
      "cell_type": "markdown",
      "metadata": {
        "id": "5BfNTSA0lPD9"
      },
      "source": [
        "# **Where Do You Fall in Hero of the Horde**\n",
        "\n",
        "Publisher: Tess O'Neal\n",
        "\n",
        "Date: 3/30/2021\n",
        "\n",
        "Region: US\n",
        "\n",
        "Ladder: RBG\n",
        "\n",
        "Data Source: https://www.arenamate.net/\n",
        "\n",
        "Topics: \n",
        "\n",
        "-Leaderboard Stats and Rating Correlation\n",
        "\n",
        "-Player Rank Comparison (insert gamer tag)\n",
        "\n",
        "-Leaderboard Distribution\n",
        "\n",
        "-Predicting Season End Rating\n",
        "\n",
        "***Dedicated to my fiancé, Fiido***"
      ]
    },
    {
      "cell_type": "markdown",
      "metadata": {
        "id": "vnxukjTVkjp9"
      },
      "source": [
        "Instrections:\n",
        "\n",
        "1. Insert Gamer Tag Below\n",
        "2. Click 'Runtime' Menu, Select 'Run all'\n",
        "3. Get a Snack While Code Executes (~2 mintues)\n",
        "4. Enjoy Your Custom Data \n"
      ]
    },
    {
      "cell_type": "code",
      "metadata": {
        "colab": {
          "base_uri": "https://localhost:8080/"
        },
        "id": "WBgfwD7gjDvB",
        "outputId": "fd9f0ae6-b933-4438-e301-9b306cf7f883"
      },
      "source": [
        "### Insert Player's GamerTag ###\n",
        " \n",
        "GamerTag= 'Davidian#1971' # Crypa#2945\n",
        " \n",
        "print('Welcome ' + str(GamerTag) +'!')\n",
        "print(' ')\n",
        "print('Please do not make additional edits to code, thank you.')"
      ],
      "execution_count": null,
      "outputs": [
        {
          "output_type": "stream",
          "text": [
            "Welcome AshenPhoenix#2589!\n",
            " \n",
            "Please do not make additional edits to code, thank you.\n"
          ],
          "name": "stdout"
        }
      ]
    },
    {
      "cell_type": "code",
      "metadata": {
        "colab": {
          "base_uri": "https://localhost:8080/"
        },
        "id": "wY1uA4eViRSH",
        "outputId": "370ae218-895f-45d6-e039-e0c33cbbe1dd"
      },
      "source": [
        "### DO NOT EDIT CODE ###\n",
        "from bs4 import BeautifulSoup \n",
        "import requests\n",
        "import pandas as pd\n",
        "import numpy as np\n",
        "import re\n",
        "import matplotlib.pyplot as plt\n",
        "import seaborn as sns\n",
        "import scipy.stats as stats\n",
        "print('Imported')\n",
        "### not even sure if i used all of these, oh well ###"
      ],
      "execution_count": null,
      "outputs": [
        {
          "output_type": "stream",
          "text": [
            "Imported\n"
          ],
          "name": "stdout"
        }
      ]
    },
    {
      "cell_type": "code",
      "metadata": {
        "colab": {
          "base_uri": "https://localhost:8080/"
        },
        "id": "DKLHqfcFiRSN",
        "outputId": "d65dbd1c-8615-4ea5-a9e2-6e38cd1a9dc2"
      },
      "source": [
        "### Last Refresh ###\n",
        "\n",
        "baseurl='https://www.arenamate.net/?faction=&ladder=RBG'\n",
        "data = requests.get(baseurl).text \n",
        "soup = BeautifulSoup(data,\"html5lib\")\n",
        "#print(soup.prettify())\n",
        "\n",
        "refresh_ladder=soup.find('abbr')\n",
        "print('Ladder Refreshed:')\n",
        "print(refresh_ladder)\n",
        "print(' ')\n",
        "\n",
        "baseurl='https://www.arenamate.net/arena-rbg-title-cutoffs'\n",
        "data = requests.get(baseurl).text \n",
        "soup = BeautifulSoup(data,\"html5lib\")\n",
        "#print(soup.prettify())\n",
        "\n",
        "refresh_cutoff=soup.find_all('abbr')\n",
        "print('Title Cutoff Refreshed:')\n",
        "print(refresh_cutoff[1])"
      ],
      "execution_count": null,
      "outputs": [
        {
          "output_type": "stream",
          "text": [
            "Ladder Refreshed:\n",
            "<abbr data-livestamp=\"2021-03-30T07:08:12.000-07:00\" title=\"Mar 30, 2021 - 07:08 AM (America/LA)\">Mar 30, 2021 - 07:08 AM (America/LA)</abbr>\n",
            " \n",
            "Title Cutoff Refreshed:\n",
            "<abbr data-livestamp=\"2021-03-29T07:39:17.000-07:00\" title=\"Mar 29, 2021 - 07:39 AM (America/LA)\">Mar 29, 2021 - 07:39 AM (America/LA)</abbr>\n"
          ],
          "name": "stdout"
        }
      ]
    },
    {
      "cell_type": "code",
      "metadata": {
        "colab": {
          "base_uri": "https://localhost:8080/"
        },
        "id": "EU1ICS6MiRSO",
        "outputId": "411c28bc-98b1-49e5-e822-12bd5376e22e"
      },
      "source": [
        "### long runtime - go get a snack ###\n",
        "\n",
        "### Building Leaderboard Table ###\n",
        "\n",
        "baseurl='https://www.arenamate.net/?faction=&ladder=RBG'\n",
        "\n",
        "columns = []\n",
        "all_rows = []\n",
        "    \n",
        "for page in range(1,101):\n",
        "    new_url=str(baseurl) + '&page=' + str(page) + '&rating=0&realm=&region=US'\n",
        "    data = requests.get(new_url).text \n",
        "    soup = BeautifulSoup(data,\"html5lib\")\n",
        "    rating_table = soup.find(\"table\", attrs={\"id\": \"results-table\"})\n",
        "    \n",
        "    body=rating_table.find_all('tr')\n",
        "    head = body[0] \n",
        "    body_rows = body[1:]\n",
        "        \n",
        "    for item in rating_table.find_all(\"th\"): \n",
        "        if page > 1:\n",
        "            break\n",
        "        else:\n",
        "            item = (item.text).rstrip(\"\\n\")\n",
        "            columns.append(item)\n",
        "        \n",
        "    for row_num in range(len(body_rows)):\n",
        "        row=[]\n",
        "        for row_item in body_rows[row_num].find_all(\"td\"):\n",
        "            aa = re.sub(\"(\\xa0)|(\\n)|,\",\"\",row_item.text)\n",
        "            row.append(aa)\n",
        "            all_rows.append(row)\n",
        "            \n",
        "print('Data Loaded')"
      ],
      "execution_count": null,
      "outputs": [
        {
          "output_type": "stream",
          "text": [
            "Data Loaded\n"
          ],
          "name": "stdout"
        }
      ]
    },
    {
      "cell_type": "code",
      "metadata": {
        "colab": {
          "base_uri": "https://localhost:8080/",
          "height": 419
        },
        "id": "M6xQq4b_iRSP",
        "outputId": "d9921215-b2a1-4100-f5fc-a42f18adb126"
      },
      "source": [
        "df = pd.DataFrame(data=all_rows, columns=columns)\n",
        "df_collected=df.drop_duplicates(keep='first', inplace=False)\n",
        "df_total=df_collected.rename(columns={'Details/Name':'GamerTag','Played/W/L/Win % (SL S1)':'P/W/L/%'})\n",
        "df_total"
      ],
      "execution_count": null,
      "outputs": [
        {
          "output_type": "execute_result",
          "data": {
            "text/html": [
              "<div>\n",
              "<style scoped>\n",
              "    .dataframe tbody tr th:only-of-type {\n",
              "        vertical-align: middle;\n",
              "    }\n",
              "\n",
              "    .dataframe tbody tr th {\n",
              "        vertical-align: top;\n",
              "    }\n",
              "\n",
              "    .dataframe thead th {\n",
              "        text-align: right;\n",
              "    }\n",
              "</style>\n",
              "<table border=\"1\" class=\"dataframe\">\n",
              "  <thead>\n",
              "    <tr style=\"text-align: right;\">\n",
              "      <th></th>\n",
              "      <th>Rank</th>\n",
              "      <th>Rating</th>\n",
              "      <th>Follow</th>\n",
              "      <th>GamerTag</th>\n",
              "      <th>Realm</th>\n",
              "      <th>P/W/L/%</th>\n",
              "    </tr>\n",
              "  </thead>\n",
              "  <tbody>\n",
              "    <tr>\n",
              "      <th>0</th>\n",
              "      <td>1 1</td>\n",
              "      <td>3064</td>\n",
              "      <td></td>\n",
              "      <td>Suspex</td>\n",
              "      <td>Bleeding Hollow</td>\n",
              "      <td>229 198 31    87.0%</td>\n",
              "    </tr>\n",
              "    <tr>\n",
              "      <th>6</th>\n",
              "      <td>2 2</td>\n",
              "      <td>3036</td>\n",
              "      <td></td>\n",
              "      <td>Slipnslide</td>\n",
              "      <td>Mal'Ganis</td>\n",
              "      <td>160 120 40    75.0%</td>\n",
              "    </tr>\n",
              "    <tr>\n",
              "      <th>12</th>\n",
              "      <td>3 2</td>\n",
              "      <td>3036</td>\n",
              "      <td></td>\n",
              "      <td>Spanksv</td>\n",
              "      <td>Tichondrius</td>\n",
              "      <td>157 118 39    75.0%</td>\n",
              "    </tr>\n",
              "    <tr>\n",
              "      <th>18</th>\n",
              "      <td>4 4</td>\n",
              "      <td>3026</td>\n",
              "      <td></td>\n",
              "      <td>Vinnythepope</td>\n",
              "      <td>Bleeding Hollow</td>\n",
              "      <td>164 123 41    75.0%</td>\n",
              "    </tr>\n",
              "    <tr>\n",
              "      <th>24</th>\n",
              "      <td>5 5</td>\n",
              "      <td>3019</td>\n",
              "      <td></td>\n",
              "      <td>Factszxy</td>\n",
              "      <td>Area 52</td>\n",
              "      <td>223 187 36    84.0%</td>\n",
              "    </tr>\n",
              "    <tr>\n",
              "      <th>...</th>\n",
              "      <td>...</td>\n",
              "      <td>...</td>\n",
              "      <td>...</td>\n",
              "      <td>...</td>\n",
              "      <td>...</td>\n",
              "      <td>...</td>\n",
              "    </tr>\n",
              "    <tr>\n",
              "      <th>29928</th>\n",
              "      <td>4989 4998</td>\n",
              "      <td>2227</td>\n",
              "      <td></td>\n",
              "      <td>Vicous</td>\n",
              "      <td>Kil'jaeden</td>\n",
              "      <td>138 87 51    63.0%</td>\n",
              "    </tr>\n",
              "    <tr>\n",
              "      <th>29934</th>\n",
              "      <td>4990 4998</td>\n",
              "      <td>2227</td>\n",
              "      <td></td>\n",
              "      <td>Woollygeezer</td>\n",
              "      <td>Illidan</td>\n",
              "      <td>93 53 40    57.0%</td>\n",
              "    </tr>\n",
              "    <tr>\n",
              "      <th>29940</th>\n",
              "      <td>4991 4998</td>\n",
              "      <td>2227</td>\n",
              "      <td></td>\n",
              "      <td>Yossh</td>\n",
              "      <td>Illidan</td>\n",
              "      <td>101 63 38    62.0%</td>\n",
              "    </tr>\n",
              "    <tr>\n",
              "      <th>29946</th>\n",
              "      <td>4992 4998</td>\n",
              "      <td>2227</td>\n",
              "      <td></td>\n",
              "      <td>Zimzer</td>\n",
              "      <td>Area 52</td>\n",
              "      <td>102 65 37    64.0%</td>\n",
              "    </tr>\n",
              "    <tr>\n",
              "      <th>29952</th>\n",
              "      <td>4993 4998</td>\n",
              "      <td>2227</td>\n",
              "      <td></td>\n",
              "      <td>Ðominant</td>\n",
              "      <td>Alexstrasza</td>\n",
              "      <td>315 182 133    58.0%</td>\n",
              "    </tr>\n",
              "  </tbody>\n",
              "</table>\n",
              "<p>4993 rows × 6 columns</p>\n",
              "</div>"
            ],
            "text/plain": [
              "                 Rank Rating  ...               Realm                    P/W/L/%\n",
              "0              1 1      3064  ...   Bleeding Hollow       229 198 31    87.0%   \n",
              "6              2 2      3036  ...         Mal'Ganis       160 120 40    75.0%   \n",
              "12             3 2      3036  ...       Tichondrius       157 118 39    75.0%   \n",
              "18             4 4      3026  ...   Bleeding Hollow       164 123 41    75.0%   \n",
              "24             5 5      3019  ...           Area 52       223 187 36    84.0%   \n",
              "...               ...    ...  ...                 ...                        ...\n",
              "29928    4989 4998      2227  ...        Kil'jaeden        138 87 51    63.0%   \n",
              "29934    4990 4998      2227  ...           Illidan         93 53 40    57.0%   \n",
              "29940    4991 4998      2227  ...           Illidan        101 63 38    62.0%   \n",
              "29946    4992 4998      2227  ...           Area 52        102 65 37    64.0%   \n",
              "29952    4993 4998      2227  ...       Alexstrasza      315 182 133    58.0%   \n",
              "\n",
              "[4993 rows x 6 columns]"
            ]
          },
          "metadata": {
            "tags": []
          },
          "execution_count": 6
        }
      ]
    },
    {
      "cell_type": "code",
      "metadata": {
        "colab": {
          "base_uri": "https://localhost:8080/",
          "height": 504
        },
        "id": "kzG3Y41viRSQ",
        "outputId": "47bb489a-5211-44b5-c21c-b116433a4832"
      },
      "source": [
        "### Player Win/Lose Statistics ###\n",
        "\n",
        "df_play_stat=df_total[['GamerTag','Rating','P/W/L/%']]\n",
        "df_play_stat.reset_index(inplace=True)\n",
        "df_play_stat.drop('index', axis=1, inplace=True)\n",
        "df_stats_num=df_play_stat.Rating.astype('int64')\n",
        "#print(df_stats_num.dtypes)\n",
        "\n",
        "\n",
        "split = df_play_stat['P/W/L/%'].str.split(' ',expand = True)\n",
        "#print(split)\n",
        "d = {'Plays':split[2],'Wins':split[3],'Loses':split[4]}\n",
        "df_stats = pd.DataFrame(data=d)\n",
        "df_stat_int=df_stats.astype('int64')\n",
        "#print(df_stat_int.dtypes)\n",
        "df_stat_int\n",
        "\n",
        "percent=[]\n",
        "win_lose=[]\n",
        "for games in df_stat_int:\n",
        "    player_percent=(df_stat_int['Wins']/df_stat_int['Plays'])*100\n",
        "    player_win_lose=(df_stat_int['Wins']/df_stat_int['Loses'])\n",
        "    percent.append(player_percent)\n",
        "    win_lose.append(player_win_lose)\n",
        "#print(percent)    \n",
        "df_raw=pd.DataFrame(percent)  \n",
        "df_percent=df_raw.drop_duplicates(keep='first',inplace=False)\n",
        "df_tperc=df_percent.transpose()\n",
        "df_tperc.columns =['WinPercent']\n",
        "df_P=df_tperc.astype('float')\n",
        "df_P\n",
        "\n",
        "df_raw_wl=pd.DataFrame(win_lose)  \n",
        "df_wl=df_raw_wl.drop_duplicates(keep='first',inplace=False)\n",
        "df_twl=df_wl.transpose()\n",
        "df_twl.columns =['Win/Lose']\n",
        "df_WL=df_twl.astype('float')\n",
        "df_WL\n",
        "\n",
        "df_total_stats=pd.concat([df_stat_int, df_P, df_WL], axis=1)\n",
        "df_total_stats\n",
        "\n",
        "df_player_stats=pd.concat([df_play_stat['GamerTag'],df_stats_num, df_total_stats], axis=1)\n",
        "df_player_stats.round(2)"
      ],
      "execution_count": null,
      "outputs": [
        {
          "output_type": "stream",
          "text": [
            "/usr/local/lib/python3.7/dist-packages/pandas/core/frame.py:4174: SettingWithCopyWarning: \n",
            "A value is trying to be set on a copy of a slice from a DataFrame\n",
            "\n",
            "See the caveats in the documentation: https://pandas.pydata.org/pandas-docs/stable/user_guide/indexing.html#returning-a-view-versus-a-copy\n",
            "  errors=errors,\n"
          ],
          "name": "stderr"
        },
        {
          "output_type": "execute_result",
          "data": {
            "text/html": [
              "<div>\n",
              "<style scoped>\n",
              "    .dataframe tbody tr th:only-of-type {\n",
              "        vertical-align: middle;\n",
              "    }\n",
              "\n",
              "    .dataframe tbody tr th {\n",
              "        vertical-align: top;\n",
              "    }\n",
              "\n",
              "    .dataframe thead th {\n",
              "        text-align: right;\n",
              "    }\n",
              "</style>\n",
              "<table border=\"1\" class=\"dataframe\">\n",
              "  <thead>\n",
              "    <tr style=\"text-align: right;\">\n",
              "      <th></th>\n",
              "      <th>GamerTag</th>\n",
              "      <th>Rating</th>\n",
              "      <th>Plays</th>\n",
              "      <th>Wins</th>\n",
              "      <th>Loses</th>\n",
              "      <th>WinPercent</th>\n",
              "      <th>Win/Lose</th>\n",
              "    </tr>\n",
              "  </thead>\n",
              "  <tbody>\n",
              "    <tr>\n",
              "      <th>0</th>\n",
              "      <td>Suspex</td>\n",
              "      <td>3064</td>\n",
              "      <td>229</td>\n",
              "      <td>198</td>\n",
              "      <td>31</td>\n",
              "      <td>86.46</td>\n",
              "      <td>6.39</td>\n",
              "    </tr>\n",
              "    <tr>\n",
              "      <th>1</th>\n",
              "      <td>Slipnslide</td>\n",
              "      <td>3036</td>\n",
              "      <td>160</td>\n",
              "      <td>120</td>\n",
              "      <td>40</td>\n",
              "      <td>75.00</td>\n",
              "      <td>3.00</td>\n",
              "    </tr>\n",
              "    <tr>\n",
              "      <th>2</th>\n",
              "      <td>Spanksv</td>\n",
              "      <td>3036</td>\n",
              "      <td>157</td>\n",
              "      <td>118</td>\n",
              "      <td>39</td>\n",
              "      <td>75.16</td>\n",
              "      <td>3.03</td>\n",
              "    </tr>\n",
              "    <tr>\n",
              "      <th>3</th>\n",
              "      <td>Vinnythepope</td>\n",
              "      <td>3026</td>\n",
              "      <td>164</td>\n",
              "      <td>123</td>\n",
              "      <td>41</td>\n",
              "      <td>75.00</td>\n",
              "      <td>3.00</td>\n",
              "    </tr>\n",
              "    <tr>\n",
              "      <th>4</th>\n",
              "      <td>Factszxy</td>\n",
              "      <td>3019</td>\n",
              "      <td>223</td>\n",
              "      <td>187</td>\n",
              "      <td>36</td>\n",
              "      <td>83.86</td>\n",
              "      <td>5.19</td>\n",
              "    </tr>\n",
              "    <tr>\n",
              "      <th>...</th>\n",
              "      <td>...</td>\n",
              "      <td>...</td>\n",
              "      <td>...</td>\n",
              "      <td>...</td>\n",
              "      <td>...</td>\n",
              "      <td>...</td>\n",
              "      <td>...</td>\n",
              "    </tr>\n",
              "    <tr>\n",
              "      <th>4988</th>\n",
              "      <td>Vicous</td>\n",
              "      <td>2227</td>\n",
              "      <td>138</td>\n",
              "      <td>87</td>\n",
              "      <td>51</td>\n",
              "      <td>63.04</td>\n",
              "      <td>1.71</td>\n",
              "    </tr>\n",
              "    <tr>\n",
              "      <th>4989</th>\n",
              "      <td>Woollygeezer</td>\n",
              "      <td>2227</td>\n",
              "      <td>93</td>\n",
              "      <td>53</td>\n",
              "      <td>40</td>\n",
              "      <td>56.99</td>\n",
              "      <td>1.32</td>\n",
              "    </tr>\n",
              "    <tr>\n",
              "      <th>4990</th>\n",
              "      <td>Yossh</td>\n",
              "      <td>2227</td>\n",
              "      <td>101</td>\n",
              "      <td>63</td>\n",
              "      <td>38</td>\n",
              "      <td>62.38</td>\n",
              "      <td>1.66</td>\n",
              "    </tr>\n",
              "    <tr>\n",
              "      <th>4991</th>\n",
              "      <td>Zimzer</td>\n",
              "      <td>2227</td>\n",
              "      <td>102</td>\n",
              "      <td>65</td>\n",
              "      <td>37</td>\n",
              "      <td>63.73</td>\n",
              "      <td>1.76</td>\n",
              "    </tr>\n",
              "    <tr>\n",
              "      <th>4992</th>\n",
              "      <td>Ðominant</td>\n",
              "      <td>2227</td>\n",
              "      <td>315</td>\n",
              "      <td>182</td>\n",
              "      <td>133</td>\n",
              "      <td>57.78</td>\n",
              "      <td>1.37</td>\n",
              "    </tr>\n",
              "  </tbody>\n",
              "</table>\n",
              "<p>4993 rows × 7 columns</p>\n",
              "</div>"
            ],
            "text/plain": [
              "                GamerTag  Rating  Plays  Wins  Loses  WinPercent  Win/Lose\n",
              "0                Suspex     3064    229   198     31       86.46      6.39\n",
              "1            Slipnslide     3036    160   120     40       75.00      3.00\n",
              "2               Spanksv     3036    157   118     39       75.16      3.03\n",
              "3          Vinnythepope     3026    164   123     41       75.00      3.00\n",
              "4              Factszxy     3019    223   187     36       83.86      5.19\n",
              "...                  ...     ...    ...   ...    ...         ...       ...\n",
              "4988             Vicous     2227    138    87     51       63.04      1.71\n",
              "4989       Woollygeezer     2227     93    53     40       56.99      1.32\n",
              "4990              Yossh     2227    101    63     38       62.38      1.66\n",
              "4991             Zimzer     2227    102    65     37       63.73      1.76\n",
              "4992           Ðominant     2227    315   182    133       57.78      1.37\n",
              "\n",
              "[4993 rows x 7 columns]"
            ]
          },
          "metadata": {
            "tags": []
          },
          "execution_count": 7
        }
      ]
    },
    {
      "cell_type": "code",
      "metadata": {
        "colab": {
          "base_uri": "https://localhost:8080/",
          "height": 1000
        },
        "id": "UrxMCUl3iRSR",
        "outputId": "b12f487a-c001-4cdf-ebb6-121397f99a3b"
      },
      "source": [
        "### Stat, Rating Correlation ###\n",
        "\n",
        "df_player_stats.plot(kind='scatter', x='Plays', y='Rating', color='blue', title='Plays vs Rating')\n",
        "df_player_stats.plot(kind='scatter', x='Wins', y='Rating', color='green', title='Wins vs Rating')\n",
        "df_player_stats.plot(kind='scatter', x='Loses', y='Rating', color='red', title='Loses vs Rating')\n",
        "df_player_stats.plot(kind='scatter', x='WinPercent', y='Rating', color='yellow', title='WinPercent vs Rating')\n",
        "df_player_stats.plot(kind='scatter', x='Win/Lose', y='Rating', color='orange', title='Win/Lose vs Rating')\n",
        "df_player_stats.corr(method='pearson')"
      ],
      "execution_count": null,
      "outputs": [
        {
          "output_type": "execute_result",
          "data": {
            "text/html": [
              "<div>\n",
              "<style scoped>\n",
              "    .dataframe tbody tr th:only-of-type {\n",
              "        vertical-align: middle;\n",
              "    }\n",
              "\n",
              "    .dataframe tbody tr th {\n",
              "        vertical-align: top;\n",
              "    }\n",
              "\n",
              "    .dataframe thead th {\n",
              "        text-align: right;\n",
              "    }\n",
              "</style>\n",
              "<table border=\"1\" class=\"dataframe\">\n",
              "  <thead>\n",
              "    <tr style=\"text-align: right;\">\n",
              "      <th></th>\n",
              "      <th>Rating</th>\n",
              "      <th>Plays</th>\n",
              "      <th>Wins</th>\n",
              "      <th>Loses</th>\n",
              "      <th>WinPercent</th>\n",
              "      <th>Win/Lose</th>\n",
              "    </tr>\n",
              "  </thead>\n",
              "  <tbody>\n",
              "    <tr>\n",
              "      <th>Rating</th>\n",
              "      <td>1.000000</td>\n",
              "      <td>0.075835</td>\n",
              "      <td>0.179113</td>\n",
              "      <td>-0.066919</td>\n",
              "      <td>0.479845</td>\n",
              "      <td>0.465484</td>\n",
              "    </tr>\n",
              "    <tr>\n",
              "      <th>Plays</th>\n",
              "      <td>0.075835</td>\n",
              "      <td>1.000000</td>\n",
              "      <td>0.974126</td>\n",
              "      <td>0.954218</td>\n",
              "      <td>-0.188422</td>\n",
              "      <td>-0.102874</td>\n",
              "    </tr>\n",
              "    <tr>\n",
              "      <th>Wins</th>\n",
              "      <td>0.179113</td>\n",
              "      <td>0.974126</td>\n",
              "      <td>1.000000</td>\n",
              "      <td>0.861929</td>\n",
              "      <td>0.000054</td>\n",
              "      <td>0.068573</td>\n",
              "    </tr>\n",
              "    <tr>\n",
              "      <th>Loses</th>\n",
              "      <td>-0.066919</td>\n",
              "      <td>0.954218</td>\n",
              "      <td>0.861929</td>\n",
              "      <td>1.000000</td>\n",
              "      <td>-0.422788</td>\n",
              "      <td>-0.321549</td>\n",
              "    </tr>\n",
              "    <tr>\n",
              "      <th>WinPercent</th>\n",
              "      <td>0.479845</td>\n",
              "      <td>-0.188422</td>\n",
              "      <td>0.000054</td>\n",
              "      <td>-0.422788</td>\n",
              "      <td>1.000000</td>\n",
              "      <td>0.902314</td>\n",
              "    </tr>\n",
              "    <tr>\n",
              "      <th>Win/Lose</th>\n",
              "      <td>0.465484</td>\n",
              "      <td>-0.102874</td>\n",
              "      <td>0.068573</td>\n",
              "      <td>-0.321549</td>\n",
              "      <td>0.902314</td>\n",
              "      <td>1.000000</td>\n",
              "    </tr>\n",
              "  </tbody>\n",
              "</table>\n",
              "</div>"
            ],
            "text/plain": [
              "              Rating     Plays      Wins     Loses  WinPercent  Win/Lose\n",
              "Rating      1.000000  0.075835  0.179113 -0.066919    0.479845  0.465484\n",
              "Plays       0.075835  1.000000  0.974126  0.954218   -0.188422 -0.102874\n",
              "Wins        0.179113  0.974126  1.000000  0.861929    0.000054  0.068573\n",
              "Loses      -0.066919  0.954218  0.861929  1.000000   -0.422788 -0.321549\n",
              "WinPercent  0.479845 -0.188422  0.000054 -0.422788    1.000000  0.902314\n",
              "Win/Lose    0.465484 -0.102874  0.068573 -0.321549    0.902314  1.000000"
            ]
          },
          "metadata": {
            "tags": []
          },
          "execution_count": 8
        },
        {
          "output_type": "display_data",
          "data": {
            "image/png": "[encoded data removed]",
            "text/plain": [
              "<Figure size 432x288 with 1 Axes>"
            ]
          },
          "metadata": {
            "tags": [],
            "needs_background": "light"
          }
        },
        {
          "output_type": "display_data",
          "data": {
            "image/png": "[encoded data removed]",
            "text/plain": [
              "<Figure size 432x288 with 1 Axes>"
            ]
          },
          "metadata": {
            "tags": [],
            "needs_background": "light"
          }
        },
        {
          "output_type": "display_data",
          "data": {
            "image/png": "[encoded data removed]",
            "text/plain": [
              "<Figure size 432x288 with 1 Axes>"
            ]
          },
          "metadata": {
            "tags": [],
            "needs_background": "light"
          }
        },
        {
          "output_type": "display_data",
          "data": {
            "image/png": "[encoded data removed]",
            "text/plain": [
              "<Figure size 432x288 with 1 Axes>"
            ]
          },
          "metadata": {
            "tags": [],
            "needs_background": "light"
          }
        },
        {
          "output_type": "display_data",
          "data": {
            "image/png": "[encoded data removed]",
            "text/plain": [
              "<Figure size 432x288 with 1 Axes>"
            ]
          },
          "metadata": {
            "tags": [],
            "needs_background": "light"
          }
        }
      ]
    },
    {
      "cell_type": "code",
      "metadata": {
        "scrolled": true,
        "colab": {
          "base_uri": "https://localhost:8080/"
        },
        "id": "SJutjQjUiRSR",
        "outputId": "00224cbd-d8eb-4cfb-d1c4-b295f1f89961"
      },
      "source": [
        "df_rating=df_total[['Rank','Rating','GamerTag']]\n",
        "df_rating.reset_index(inplace=True)\n",
        "df_rating.drop('index', axis=1, inplace=True)\n",
        "\n",
        "new = df_rating['Rank'].str.split(' ',expand = True)\n",
        "#print(new)\n",
        "df_rank=pd.DataFrame(new[3]) # US Rank #\n",
        "df_rank.columns=['Rank']\n",
        "df_rank\n",
        "\n",
        "df_rank_rate = pd.concat([df_rank, df_rating['Rating']], axis=1)\n",
        "df_rr=df_rank_rate.astype(float)\n",
        "df_rr\n",
        "\n",
        "df_player_rank=pd.concat([df_rank_rate, df_rating['GamerTag']], axis=1)\n",
        "df_player_rank\n",
        "\n",
        "df_LB=df_player_rank.astype({'Rank': 'int64', 'Rating':'int64','GamerTag':'string'},copy=False)\n",
        "#print(df_LB.dtypes)\n",
        "\n",
        "print('Displayed: Leaderboard Top 10')\n",
        "df_LB.head(10)"
      ],
      "execution_count": null,
      "outputs": [
        {
          "output_type": "stream",
          "text": [
            "Displayed: Leaderboard Top 10\n"
          ],
          "name": "stdout"
        },
        {
          "output_type": "stream",
          "text": [
            "/usr/local/lib/python3.7/dist-packages/pandas/core/frame.py:4174: SettingWithCopyWarning: \n",
            "A value is trying to be set on a copy of a slice from a DataFrame\n",
            "\n",
            "See the caveats in the documentation: https://pandas.pydata.org/pandas-docs/stable/user_guide/indexing.html#returning-a-view-versus-a-copy\n",
            "  errors=errors,\n"
          ],
          "name": "stderr"
        },
        {
          "output_type": "execute_result",
          "data": {
            "text/html": [
              "<div>\n",
              "<style scoped>\n",
              "    .dataframe tbody tr th:only-of-type {\n",
              "        vertical-align: middle;\n",
              "    }\n",
              "\n",
              "    .dataframe tbody tr th {\n",
              "        vertical-align: top;\n",
              "    }\n",
              "\n",
              "    .dataframe thead th {\n",
              "        text-align: right;\n",
              "    }\n",
              "</style>\n",
              "<table border=\"1\" class=\"dataframe\">\n",
              "  <thead>\n",
              "    <tr style=\"text-align: right;\">\n",
              "      <th></th>\n",
              "      <th>Rank</th>\n",
              "      <th>Rating</th>\n",
              "      <th>GamerTag</th>\n",
              "    </tr>\n",
              "  </thead>\n",
              "  <tbody>\n",
              "    <tr>\n",
              "      <th>0</th>\n",
              "      <td>1</td>\n",
              "      <td>3064</td>\n",
              "      <td>Suspex</td>\n",
              "    </tr>\n",
              "    <tr>\n",
              "      <th>1</th>\n",
              "      <td>2</td>\n",
              "      <td>3036</td>\n",
              "      <td>Slipnslide</td>\n",
              "    </tr>\n",
              "    <tr>\n",
              "      <th>2</th>\n",
              "      <td>2</td>\n",
              "      <td>3036</td>\n",
              "      <td>Spanksv</td>\n",
              "    </tr>\n",
              "    <tr>\n",
              "      <th>3</th>\n",
              "      <td>4</td>\n",
              "      <td>3026</td>\n",
              "      <td>Vinnythepope</td>\n",
              "    </tr>\n",
              "    <tr>\n",
              "      <th>4</th>\n",
              "      <td>5</td>\n",
              "      <td>3019</td>\n",
              "      <td>Factszxy</td>\n",
              "    </tr>\n",
              "    <tr>\n",
              "      <th>5</th>\n",
              "      <td>6</td>\n",
              "      <td>3008</td>\n",
              "      <td>Manatears</td>\n",
              "    </tr>\n",
              "    <tr>\n",
              "      <th>6</th>\n",
              "      <td>7</td>\n",
              "      <td>3002</td>\n",
              "      <td>Pvpally</td>\n",
              "    </tr>\n",
              "    <tr>\n",
              "      <th>7</th>\n",
              "      <td>8</td>\n",
              "      <td>2998</td>\n",
              "      <td>Rip</td>\n",
              "    </tr>\n",
              "    <tr>\n",
              "      <th>8</th>\n",
              "      <td>9</td>\n",
              "      <td>2994</td>\n",
              "      <td>Camellita</td>\n",
              "    </tr>\n",
              "    <tr>\n",
              "      <th>9</th>\n",
              "      <td>10</td>\n",
              "      <td>2991</td>\n",
              "      <td>Kxitlyn</td>\n",
              "    </tr>\n",
              "  </tbody>\n",
              "</table>\n",
              "</div>"
            ],
            "text/plain": [
              "   Rank  Rating            GamerTag\n",
              "0     1    3064             Suspex \n",
              "1     2    3036         Slipnslide \n",
              "2     2    3036            Spanksv \n",
              "3     4    3026       Vinnythepope \n",
              "4     5    3019           Factszxy \n",
              "5     6    3008          Manatears \n",
              "6     7    3002            Pvpally \n",
              "7     8    2998                Rip \n",
              "8     9    2994          Camellita \n",
              "9    10    2991            Kxitlyn "
            ]
          },
          "metadata": {
            "tags": []
          },
          "execution_count": 9
        }
      ]
    },
    {
      "cell_type": "code",
      "metadata": {
        "colab": {
          "base_uri": "https://localhost:8080/",
          "height": 375
        },
        "id": "_YQ4j60BiRSS",
        "outputId": "e9fc2564-c14e-4465-dc02-2d93f31c461b"
      },
      "source": [
        "### Player Stats ###\n",
        "\n",
        "df_player=df_LB[df_LB['GamerTag'].str.contains(GamerTag)]\n",
        "player_rating=df_player['Rating'].iloc[0]\n",
        "player_rank=df_player['Rank'].iloc[0]\n",
        "df_player_play_stats=df_player_stats[df_player_stats['GamerTag'].str.contains(GamerTag)]\n",
        "player_wins=df_player_play_stats['Wins'].iloc[0]\n",
        "player_loses=df_player_play_stats['Loses'].iloc[0]\n",
        "player_win_perc=df_player_play_stats['WinPercent'].iloc[0]\n",
        "print('Gamer: ' + str(GamerTag))\n",
        "print('Player Rating: ' + str(player_rating))\n",
        "print('Player Rank: ' + str(player_rank))\n",
        "print('Player Wins: ' + str(player_wins))\n",
        "print('Player Loses: ' + str(player_loses))\n",
        "print('Player Win Percent: ' + str(player_win_perc.round(2)))"
      ],
      "execution_count": null,
      "outputs": [
        {
          "output_type": "error",
          "ename": "IndexError",
          "evalue": "ignored",
          "traceback": [
            "\u001b[0;31m---------------------------------------------------------------------------\u001b[0m",
            "\u001b[0;31mIndexError\u001b[0m                                Traceback (most recent call last)",
            "\u001b[0;32m<ipython-input-10-b1301d8a71d8>\u001b[0m in \u001b[0;36m<module>\u001b[0;34m()\u001b[0m\n\u001b[1;32m      2\u001b[0m \u001b[0;34m\u001b[0m\u001b[0m\n\u001b[1;32m      3\u001b[0m \u001b[0mdf_player\u001b[0m\u001b[0;34m=\u001b[0m\u001b[0mdf_LB\u001b[0m\u001b[0;34m[\u001b[0m\u001b[0mdf_LB\u001b[0m\u001b[0;34m[\u001b[0m\u001b[0;34m'GamerTag'\u001b[0m\u001b[0;34m]\u001b[0m\u001b[0;34m.\u001b[0m\u001b[0mstr\u001b[0m\u001b[0;34m.\u001b[0m\u001b[0mcontains\u001b[0m\u001b[0;34m(\u001b[0m\u001b[0mGamerTag\u001b[0m\u001b[0;34m)\u001b[0m\u001b[0;34m]\u001b[0m\u001b[0;34m\u001b[0m\u001b[0;34m\u001b[0m\u001b[0m\n\u001b[0;32m----> 4\u001b[0;31m \u001b[0mplayer_rating\u001b[0m\u001b[0;34m=\u001b[0m\u001b[0mdf_player\u001b[0m\u001b[0;34m[\u001b[0m\u001b[0;34m'Rating'\u001b[0m\u001b[0;34m]\u001b[0m\u001b[0;34m.\u001b[0m\u001b[0miloc\u001b[0m\u001b[0;34m[\u001b[0m\u001b[0;36m0\u001b[0m\u001b[0;34m]\u001b[0m\u001b[0;34m\u001b[0m\u001b[0;34m\u001b[0m\u001b[0m\n\u001b[0m\u001b[1;32m      5\u001b[0m \u001b[0mplayer_rank\u001b[0m\u001b[0;34m=\u001b[0m\u001b[0mdf_player\u001b[0m\u001b[0;34m[\u001b[0m\u001b[0;34m'Rank'\u001b[0m\u001b[0;34m]\u001b[0m\u001b[0;34m.\u001b[0m\u001b[0miloc\u001b[0m\u001b[0;34m[\u001b[0m\u001b[0;36m0\u001b[0m\u001b[0;34m]\u001b[0m\u001b[0;34m\u001b[0m\u001b[0;34m\u001b[0m\u001b[0m\n\u001b[1;32m      6\u001b[0m \u001b[0mdf_player_play_stats\u001b[0m\u001b[0;34m=\u001b[0m\u001b[0mdf_player_stats\u001b[0m\u001b[0;34m[\u001b[0m\u001b[0mdf_player_stats\u001b[0m\u001b[0;34m[\u001b[0m\u001b[0;34m'GamerTag'\u001b[0m\u001b[0;34m]\u001b[0m\u001b[0;34m.\u001b[0m\u001b[0mstr\u001b[0m\u001b[0;34m.\u001b[0m\u001b[0mcontains\u001b[0m\u001b[0;34m(\u001b[0m\u001b[0mGamerTag\u001b[0m\u001b[0;34m)\u001b[0m\u001b[0;34m]\u001b[0m\u001b[0;34m\u001b[0m\u001b[0;34m\u001b[0m\u001b[0m\n",
            "\u001b[0;32m/usr/local/lib/python3.7/dist-packages/pandas/core/indexing.py\u001b[0m in \u001b[0;36m__getitem__\u001b[0;34m(self, key)\u001b[0m\n\u001b[1;32m    877\u001b[0m \u001b[0;34m\u001b[0m\u001b[0m\n\u001b[1;32m    878\u001b[0m             \u001b[0mmaybe_callable\u001b[0m \u001b[0;34m=\u001b[0m \u001b[0mcom\u001b[0m\u001b[0;34m.\u001b[0m\u001b[0mapply_if_callable\u001b[0m\u001b[0;34m(\u001b[0m\u001b[0mkey\u001b[0m\u001b[0;34m,\u001b[0m \u001b[0mself\u001b[0m\u001b[0;34m.\u001b[0m\u001b[0mobj\u001b[0m\u001b[0;34m)\u001b[0m\u001b[0;34m\u001b[0m\u001b[0;34m\u001b[0m\u001b[0m\n\u001b[0;32m--> 879\u001b[0;31m             \u001b[0;32mreturn\u001b[0m \u001b[0mself\u001b[0m\u001b[0;34m.\u001b[0m\u001b[0m_getitem_axis\u001b[0m\u001b[0;34m(\u001b[0m\u001b[0mmaybe_callable\u001b[0m\u001b[0;34m,\u001b[0m \u001b[0maxis\u001b[0m\u001b[0;34m=\u001b[0m\u001b[0maxis\u001b[0m\u001b[0;34m)\u001b[0m\u001b[0;34m\u001b[0m\u001b[0;34m\u001b[0m\u001b[0m\n\u001b[0m\u001b[1;32m    880\u001b[0m \u001b[0;34m\u001b[0m\u001b[0m\n\u001b[1;32m    881\u001b[0m     \u001b[0;32mdef\u001b[0m \u001b[0m_is_scalar_access\u001b[0m\u001b[0;34m(\u001b[0m\u001b[0mself\u001b[0m\u001b[0;34m,\u001b[0m \u001b[0mkey\u001b[0m\u001b[0;34m:\u001b[0m \u001b[0mTuple\u001b[0m\u001b[0;34m)\u001b[0m\u001b[0;34m:\u001b[0m\u001b[0;34m\u001b[0m\u001b[0;34m\u001b[0m\u001b[0m\n",
            "\u001b[0;32m/usr/local/lib/python3.7/dist-packages/pandas/core/indexing.py\u001b[0m in \u001b[0;36m_getitem_axis\u001b[0;34m(self, key, axis)\u001b[0m\n\u001b[1;32m   1494\u001b[0m \u001b[0;34m\u001b[0m\u001b[0m\n\u001b[1;32m   1495\u001b[0m             \u001b[0;31m# validate the location\u001b[0m\u001b[0;34m\u001b[0m\u001b[0;34m\u001b[0m\u001b[0;34m\u001b[0m\u001b[0m\n\u001b[0;32m-> 1496\u001b[0;31m             \u001b[0mself\u001b[0m\u001b[0;34m.\u001b[0m\u001b[0m_validate_integer\u001b[0m\u001b[0;34m(\u001b[0m\u001b[0mkey\u001b[0m\u001b[0;34m,\u001b[0m \u001b[0maxis\u001b[0m\u001b[0;34m)\u001b[0m\u001b[0;34m\u001b[0m\u001b[0;34m\u001b[0m\u001b[0m\n\u001b[0m\u001b[1;32m   1497\u001b[0m \u001b[0;34m\u001b[0m\u001b[0m\n\u001b[1;32m   1498\u001b[0m             \u001b[0;32mreturn\u001b[0m \u001b[0mself\u001b[0m\u001b[0;34m.\u001b[0m\u001b[0mobj\u001b[0m\u001b[0;34m.\u001b[0m\u001b[0m_ixs\u001b[0m\u001b[0;34m(\u001b[0m\u001b[0mkey\u001b[0m\u001b[0;34m,\u001b[0m \u001b[0maxis\u001b[0m\u001b[0;34m=\u001b[0m\u001b[0maxis\u001b[0m\u001b[0;34m)\u001b[0m\u001b[0;34m\u001b[0m\u001b[0;34m\u001b[0m\u001b[0m\n",
            "\u001b[0;32m/usr/local/lib/python3.7/dist-packages/pandas/core/indexing.py\u001b[0m in \u001b[0;36m_validate_integer\u001b[0;34m(self, key, axis)\u001b[0m\n\u001b[1;32m   1435\u001b[0m         \u001b[0mlen_axis\u001b[0m \u001b[0;34m=\u001b[0m \u001b[0mlen\u001b[0m\u001b[0;34m(\u001b[0m\u001b[0mself\u001b[0m\u001b[0;34m.\u001b[0m\u001b[0mobj\u001b[0m\u001b[0;34m.\u001b[0m\u001b[0m_get_axis\u001b[0m\u001b[0;34m(\u001b[0m\u001b[0maxis\u001b[0m\u001b[0;34m)\u001b[0m\u001b[0;34m)\u001b[0m\u001b[0;34m\u001b[0m\u001b[0;34m\u001b[0m\u001b[0m\n\u001b[1;32m   1436\u001b[0m         \u001b[0;32mif\u001b[0m \u001b[0mkey\u001b[0m \u001b[0;34m>=\u001b[0m \u001b[0mlen_axis\u001b[0m \u001b[0;32mor\u001b[0m \u001b[0mkey\u001b[0m \u001b[0;34m<\u001b[0m \u001b[0;34m-\u001b[0m\u001b[0mlen_axis\u001b[0m\u001b[0;34m:\u001b[0m\u001b[0;34m\u001b[0m\u001b[0;34m\u001b[0m\u001b[0m\n\u001b[0;32m-> 1437\u001b[0;31m             \u001b[0;32mraise\u001b[0m \u001b[0mIndexError\u001b[0m\u001b[0;34m(\u001b[0m\u001b[0;34m\"single positional indexer is out-of-bounds\"\u001b[0m\u001b[0;34m)\u001b[0m\u001b[0;34m\u001b[0m\u001b[0;34m\u001b[0m\u001b[0m\n\u001b[0m\u001b[1;32m   1438\u001b[0m \u001b[0;34m\u001b[0m\u001b[0m\n\u001b[1;32m   1439\u001b[0m     \u001b[0;31m# -------------------------------------------------------------------\u001b[0m\u001b[0;34m\u001b[0m\u001b[0;34m\u001b[0m\u001b[0;34m\u001b[0m\u001b[0m\n",
            "\u001b[0;31mIndexError\u001b[0m: single positional indexer is out-of-bounds"
          ]
        }
      ]
    },
    {
      "cell_type": "code",
      "metadata": {
        "id": "h3ODK0-YiRSS"
      },
      "source": [
        "### Current Hero Rating Cutoff ###\n",
        "\n",
        "start_link='https://www.arenamate.net/arena-rbg-title-cutoffs'\n",
        "data = requests.get(start_link).text \n",
        "soup = BeautifulSoup(data,\"html5lib\")\n",
        "archive_link = soup.find(\"div\", attrs={\"class\": \"dropdown\"})\n",
        "body=soup.find_all( 'strong')\n",
        "#print(body)\n",
        "#print(len(body))\n",
        "str_value=str(body[24])\n",
        "horde_rating=int(str_value[8:12])\n",
        "horde_rating\n",
        "print('Current Hero Rating Cutoff: ' + str(horde_rating))\n",
        "print(' ')\n",
        "\n",
        "### Did you make the cutoff? ###\n",
        "\n",
        "if player_rating >= horde_rating:\n",
        "    print(str(GamerTag) +' is Above the Cutoff')\n",
        "    print('Winner Winner!')\n",
        "else:\n",
        "    print(str(GamerTag) +' is a loser, try harder next time.')"
      ],
      "execution_count": null,
      "outputs": []
    },
    {
      "cell_type": "code",
      "metadata": {
        "id": "FMlxugdaiRSS"
      },
      "source": [
        "### Leaderboard Rank & Rating ###\n",
        "\n",
        "df_LB.plot(x='Rank', y='Rating', color='black', title='Leaderboard Ratings')\n",
        "hero=plt.axhline(horde_rating, color='r', linestyle='dashed', label='Hero')\n",
        "player=plt.axhline(player_rating, color='g', linestyle='-', label='Player')\n",
        "plt.legend(handles=[hero, player])\n",
        "df_LB.describe()\n"
      ],
      "execution_count": null,
      "outputs": []
    },
    {
      "cell_type": "code",
      "metadata": {
        "id": "AUczURm-iRST"
      },
      "source": [
        "### Leaderboard Histogram ###\n",
        "\n",
        "df_LB.Rating.plot(kind='hist', bins=25, color='black', title='Leaderboard Ratings')\n",
        "hero=plt.axvline(horde_rating, color='r', linestyle='dashed', label='Hero')\n",
        "player=plt.axvline(player_rating, color='g', linestyle='-', label='Player')\n",
        "plt.legend(handles=[hero, player])"
      ],
      "execution_count": null,
      "outputs": []
    },
    {
      "cell_type": "code",
      "metadata": {
        "id": "aY2EoyyOiRST"
      },
      "source": [
        "### Rating Frequency ###\n",
        "\n",
        "df_stat=df_rr.groupby('Rating').count()\n",
        "df_count=df_stat.reset_index()\n",
        "df_count.rename(columns={'Rank':'Count'}, inplace=True)\n",
        "df_count"
      ],
      "execution_count": null,
      "outputs": []
    },
    {
      "cell_type": "code",
      "metadata": {
        "id": "O4LiSQ12iRSU"
      },
      "source": [
        "### Leaderboard Rating Fequency ###\n",
        "\n",
        "df_count.plot(x='Rating', y='Count', color='black', title='Leaderboard Rating Frequency')\n",
        "hero=plt.axvline(horde_rating, color='r', linestyle='dashed', label='Hero')\n",
        "player=plt.axvline(player_rating, color='g', linestyle='-', label='Player')\n",
        "plt.legend(handles=[hero, player])\n",
        "df_count.describe()"
      ],
      "execution_count": null,
      "outputs": []
    },
    {
      "cell_type": "code",
      "metadata": {
        "id": "4b3BU-v_iRSU"
      },
      "source": [
        "### Hero Data ###\n",
        "\n",
        "df_cutoff = df_rr.loc[df_rr['Rating'] >= horde_rating]\n",
        "df_cutoff"
      ],
      "execution_count": null,
      "outputs": []
    },
    {
      "cell_type": "code",
      "metadata": {
        "id": "kpgdloYLiRSU"
      },
      "source": [
        "### Below 2400 Rating ###\n",
        "\n",
        "df_losers=df_rr.loc[df_rr['Rating'] < 2400]\n",
        "df_losers"
      ],
      "execution_count": null,
      "outputs": []
    },
    {
      "cell_type": "code",
      "metadata": {
        "id": "zF6bstt_iRSU"
      },
      "source": [
        "### Close to Cutoff ###\n",
        "\n",
        "df_top=df_rr.drop(index=df_losers.index)\n",
        "df_close=df_top.drop(index=df_cutoff.index)\n",
        "df_close"
      ],
      "execution_count": null,
      "outputs": []
    },
    {
      "cell_type": "code",
      "metadata": {
        "id": "hh0DzbQjiRSV"
      },
      "source": [
        "df_close.describe()"
      ],
      "execution_count": null,
      "outputs": []
    },
    {
      "cell_type": "code",
      "metadata": {
        "scrolled": true,
        "id": "2sJIOX_giRSV"
      },
      "source": [
        "# Close to Cutoff Frequency ###\n",
        "\n",
        "df_close_range=df_close.groupby('Rating').count().reset_index()\n",
        "df_close_range.rename(columns={'Rank':'Count'}, inplace=True)\n",
        "df_close_range"
      ],
      "execution_count": null,
      "outputs": []
    },
    {
      "cell_type": "code",
      "metadata": {
        "id": "XiwVug1hiRSV"
      },
      "source": [
        "### Distribution of Players Below Cutoff, 2400 and Above ###\n",
        "\n",
        "df_close_range.plot(kind='box',y='Rating', x='Count', color='black', title='Distribution of Players Close to Cutoff')\n",
        "hero=plt.axhline(horde_rating, color='r', linestyle='dashed', label='Hero')\n",
        "player=plt.axhline(player_rating, color='g', linestyle='-', label='Player')\n",
        "plt.legend(handles=[hero, player])\n",
        "df_close_range.describe()"
      ],
      "execution_count": null,
      "outputs": []
    },
    {
      "cell_type": "code",
      "metadata": {
        "id": "YAEHhRtTiRSV"
      },
      "source": [
        "# Players at Rating 2400 ###\n",
        "\n",
        "df_2400=df_rr.loc[df_rr['Rating']==2400]\n",
        "players_2400=df_2400.Rating.count()\n",
        "\n",
        "print('Players at 2400: ' + str(players_2400))"
      ],
      "execution_count": null,
      "outputs": []
    },
    {
      "cell_type": "code",
      "metadata": {
        "scrolled": true,
        "id": "oRI16rPTiRSV"
      },
      "source": [
        "### Hero Rating Frequency ###\n",
        "\n",
        "df_top_divide=df_cutoff.groupby('Rating').count()\n",
        "df_top_divide.reset_index(inplace=True)\n",
        "df_top_divide"
      ],
      "execution_count": null,
      "outputs": []
    },
    {
      "cell_type": "code",
      "metadata": {
        "id": "Pue7h_OqiRSW"
      },
      "source": [
        "### Distribution of Hero Ratings ### \n",
        "\n",
        "df_top_divide.plot(kind='box' ,y='Rating', color='black', title='Distribution of Ratings within Cutoff')\n",
        "hero=plt.axhline(horde_rating, color='r', linestyle='dashed', label='Hero')\n",
        "player=plt.axhline(player_rating, color='g', linestyle='-', label='Player')\n",
        "plt.legend(handles=[hero, player])\n",
        "df_top_divide.describe()"
      ],
      "execution_count": null,
      "outputs": []
    },
    {
      "cell_type": "code",
      "metadata": {
        "id": "V9HPoaSTiRSW"
      },
      "source": [
        "### Distribution of Leaderboard Ratings ###\n",
        "\n",
        "df_rr.plot(kind='box', x='Rank',title='Distribution of All Leaderboard Ratings', color='black')\n",
        "hero=plt.axhline(horde_rating, color='r', linestyle='dashed', label='Hero')\n",
        "player=plt.axhline(player_rating, color='g', linestyle='-', label='Player')\n",
        "plt.legend(handles=[hero, player])\n",
        "\n",
        "### Players you out rank within cutoff ###\n",
        "df_bottoms=df_top_divide.loc[df_top_divide['Rating']<player_rating]\n",
        "bottom_ranks=df_bottoms.Rank.sum()\n",
        "\n",
        "### Leaderboard Players You Out Rank ###\n",
        "df_outranked=df_rr.loc[df_rr['Rating']<player_rating]\n",
        "df_bottom_divide=df_outranked.groupby('Rating').count()\n",
        "df_bottom_divide.reset_index(inplace=True)\n",
        "player_sum_below=df_bottom_divide.Rank.sum()\n",
        "\n",
        "### Leaderboard Players Who Out Rank You ###\n",
        "df_outrank=df_rr.loc[df_rr['Rating']>player_rating]\n",
        "df_up_divide=df_outrank.groupby('Rating').count()\n",
        "df_up_divide.reset_index(inplace=True)\n",
        "player_sum_top=df_up_divide.Rank.sum()\n",
        "\n",
        "### Players within Hero (top 0.5%) ###\n",
        "heroes=len(df_cutoff)\n",
        "pool=int(heroes*100/0.5)\n",
        "\n",
        "print('Players in Hero: ' + str(heroes))\n",
        "print('Total Players: ' + str(pool))\n",
        "print(' ')\n",
        "print('Leaderboard Players Above You: ' + str(player_sum_top))\n",
        "print(' ')\n",
        "print('Leaderboard Players Below You: ' + str(player_sum_below))\n",
        "print('Hero Ranked Players Below You: ' + str(bottom_ranks))\n",
        "df_rr.describe()"
      ],
      "execution_count": null,
      "outputs": []
    },
    {
      "cell_type": "code",
      "metadata": {
        "id": "OUpyCZIGiRSW"
      },
      "source": [
        "### Archived Hero Data from Previous Season ###\n",
        "\n",
        "# Manually created hero season rating lists #\n",
        "\n",
        "horde_season=['SL S1',\n",
        "            'BfA S4','BfA S3','BfA S2','BfA S1',\n",
        "            'Legion S7','Legion S6','Legion S5','Legion S4','Legion S4','Legion S2','Legion S1',\n",
        "            'Warlords S3','Warlords S2','Warlords S1',\n",
        "            'Season 15','Season 14',] \n",
        "horde_ratings=[horde_rating,\n",
        "            2643,2392,2397,2681,\n",
        "            2543,2530,2428,2449,2402,2500,2416,\n",
        "            2304,2265,2155,\n",
        "            2367,2200,] \n",
        "\n",
        "horde_season.reverse()\n",
        "horde_ratings.reverse()\n",
        "\n",
        "horde_data={'Season': horde_season, 'Rating': horde_ratings}\n",
        "\n",
        "#print(horde_data)\n",
        "df_horde=pd.DataFrame(horde_data)\n",
        "df_horde"
      ],
      "execution_count": null,
      "outputs": []
    },
    {
      "cell_type": "code",
      "metadata": {
        "id": "GQiydPLiiRSX"
      },
      "source": [
        "### Season Ratings Scatter plot & linear fit ###\n",
        "\n",
        "y1=np.array(df_horde['Rating'])\n",
        "x1=df_horde.index.values\n",
        "x1,y1\n",
        "m, b = np.polyfit(x1, y1, 1)\n",
        "\n",
        "\n",
        "df_horde.plot(kind='scatter',x='Season', y='Rating', color='black',title='Previous Season Hero Ratings')\n",
        "hero=plt.axhline(horde_rating, color='r', linestyle='dashed', label='Hero')\n",
        "player=plt.axhline(player_rating, color='g', linestyle='-', label='Player')\n",
        "plt.plot(x1, m*x1 + b,)\n",
        "plt.legend(handles=[hero, player])\n",
        "plt.xticks(rotation = 90)"
      ],
      "execution_count": null,
      "outputs": []
    },
    {
      "cell_type": "code",
      "metadata": {
        "id": "udht-1YFiRSX"
      },
      "source": [
        "### Season Hero Ratings Distribution ###\n",
        "\n",
        "df_horde.plot(kind='box', color='black',title='Season Hero Ratings Distribution')\n",
        "hero=plt.axhline(horde_rating, color='r', linestyle='dashed', label='Hero')\n",
        "player=plt.axhline(player_rating, color='g', linestyle='-', label='Player')\n",
        "plt.legend(handles=[hero, player])\n",
        "df_horde.describe()"
      ],
      "execution_count": null,
      "outputs": []
    },
    {
      "cell_type": "code",
      "metadata": {
        "scrolled": true,
        "id": "tLut6-CJiRSX"
      },
      "source": [
        "### Predicting Season End Hero Rating Cutoff ###\n",
        "\n",
        "s16_predict=[]\n",
        "fitcoed=[]\n",
        "df_horde.plot(kind='scatter',x='Season', y='Rating', color='black', title= 'Ploynomial Fits of Hero Ratings')\n",
        "\n",
        "for i in range(9):\n",
        "\n",
        "    coefficients = np.polyfit(x1, y1, i+1)\n",
        "    poly = np.poly1d(coefficients)\n",
        "\n",
        "    new_x = np.linspace(x1[0], x1[-1])\n",
        "    new_y = poly(new_x)\n",
        "    plt.plot(x1, y1, \"o\", new_x, new_y, )\n",
        "    plt.legend(fitcoed)\n",
        "    plt.xticks(rotation = 90)\n",
        "    predict=poly(16)\n",
        "    s16_predict.append(predict)\n",
        "    fitcoed.append(i+1)\n",
        "    \n",
        "horde_predict={'Fit': fitcoed , 'Rating': s16_predict}\n",
        "df_horde_predict=pd.DataFrame(horde_predict)\n",
        "df_horde_predict"
      ],
      "execution_count": null,
      "outputs": []
    },
    {
      "cell_type": "code",
      "metadata": {
        "scrolled": true,
        "id": "UAOjLf7oiRSX"
      },
      "source": [
        "### Power Polynomial Fit Split Projectection ###\n",
        "\n",
        "### All Powers Polynomial Fit Season End Hero Projection ###\n",
        "\n",
        "df_horde_predict.describe()\n",
        "df_horde_predict.plot(kind='scatter',x='Fit', y='Rating', title='All Powers Polynomial Fit Current Season Hero Projection')\n",
        "hero=plt.axhline(horde_rating, color='r', linestyle='dashed', label='Hero')\n",
        "player=plt.axhline(player_rating, color='g', linestyle='-', label='Player')\n",
        "plt.legend(handles=[hero, player])\n",
        "\n",
        "print('All Powers Projected Season End Hero Rating: ' + str(int(df_horde_predict.Rating.mean())))\n",
        "print('Standard Deviation: ' + str(int(df_horde_predict.Rating.std())))\n",
        "print(' ')\n",
        "\n",
        "### Odd Powers Polynomial Fit Season End Hero Projection ###\n",
        "\n",
        "df_hp_odd_poly=df_horde_predict.drop([1,3,5,7])\n",
        "df_hp_even_poly=df_horde_predict.drop([0,2,4,6,8])\n",
        "\n",
        "df_hp_odd_poly.plot(kind='scatter',x='Fit', y='Rating', title='Odd Power Polynomial Fit Current Season Hero Projection')\n",
        "hero=plt.axhline(horde_rating, color='r', linestyle='dashed', label='Hero')\n",
        "player=plt.axhline(player_rating, color='g', linestyle='-', label='Player')\n",
        "plt.legend(handles=[hero, player])\n",
        "df_hp_odd_poly.describe()\n",
        "print('Odd Power Projected Season End Hero Rating: ' + str(int(df_hp_odd_poly.Rating.mean())))\n",
        "print('Standard Deviation: ' + str(int(df_hp_odd_poly.Rating.std())))\n",
        "print(' ')\n",
        "\n",
        "### Even Powers Polynomial Fit Season End Hero Projection ###\n",
        "\n",
        "df_hp_even_poly.plot(kind='scatter',x='Fit', y='Rating', title='Even Power Polynomial Fit Current Season Hero Projection')\n",
        "hero=plt.axhline(horde_rating, color='r', linestyle='dashed', label='Hero')\n",
        "player=plt.axhline(player_rating, color='g', linestyle='-', label='Player')\n",
        "plt.legend(handles=[hero, player])\n",
        "df_hp_even_poly.describe()\n",
        "print('Even Power Projected Season End Hero Rating: ' + str(int(df_hp_even_poly.Rating.mean())))\n",
        "print('Standard Deviation: ' + str(int(df_hp_even_poly.Rating.std())))\n",
        "print(' ')\n",
        "\n",
        "### selecting best fit by smallest STD ###\n",
        "\n",
        "best_mean=[int(df_horde_predict.Rating.mean()),int(df_hp_odd_poly.Rating.mean()),int(df_hp_even_poly.Rating.mean())]\n",
        "\n",
        "best_std=[int(df_horde_predict.Rating.std()),int(df_hp_odd_poly.Rating.std()),int(df_hp_even_poly.Rating.std())]\n",
        "\n",
        "poly_fits=['All','Odd','Even']\n",
        "\n",
        "best_fit_table={'MeanRating': best_mean, 'STD': best_std, 'Fit': poly_fits}\n",
        "\n",
        "df_best_fit=pd.DataFrame(best_fit_table)\n",
        "df_best_fit.sort_values('STD', inplace=True)\n",
        "df_best_fit.reset_index(inplace=True)\n",
        "df_best_fit.drop('index', axis=1, inplace=True)\n",
        "df_best_fit\n",
        "\n",
        "print('Best Prediction for Season End Hero of the Horde Cutoff: ' + str(df_best_fit.MeanRating[0]) + ' (' + str(df_best_fit.Fit[0]) + ' Ploynomial Mean)')\n"
      ],
      "execution_count": null,
      "outputs": []
    }
  ]
}